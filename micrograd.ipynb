{
 "cells": [
  {
   "cell_type": "code",
   "execution_count": 82,
   "metadata": {},
   "outputs": [],
   "source": [
    "import math\n",
    "import numpy as np\n",
    "import matplotlib.pyplot as plt\n",
    "%matplotlib inline"
   ]
  },
  {
   "cell_type": "code",
   "execution_count": 2,
   "metadata": {},
   "outputs": [],
   "source": [
    "def f(x):\n",
    "    return 3*x**2 - 4*x+5"
   ]
  },
  {
   "cell_type": "code",
   "execution_count": 3,
   "metadata": {},
   "outputs": [
    {
     "data": {
      "text/plain": [
       "[<matplotlib.lines.Line2D at 0x13aff6bab20>]"
      ]
     },
     "execution_count": 3,
     "metadata": {},
     "output_type": "execute_result"
    },
    {
     "data": {
      "image/png": "[encoded data removed]",
      "text/plain": [
       "<Figure size 432x288 with 1 Axes>"
      ]
     },
     "metadata": {
      "needs_background": "light"
     },
     "output_type": "display_data"
    }
   ],
   "source": [
    "xs = np.arange(-5, 5, 0.25)\n",
    "ys = f(xs)\n",
    "plt.plot(xs, ys)"
   ]
  },
  {
   "cell_type": "code",
   "execution_count": 4,
   "metadata": {},
   "outputs": [
    {
     "data": {
      "text/plain": [
       "0.0029999999995311555"
      ]
     },
     "execution_count": 4,
     "metadata": {},
     "output_type": "execute_result"
    }
   ],
   "source": [
    "# derivative at 2/3\n",
    "h = 0.001\n",
    "x = 2/3\n",
    "(f(x+h) - f(x))/h"
   ]
  },
  {
   "cell_type": "code",
   "execution_count": 5,
   "metadata": {},
   "outputs": [
    {
     "data": {
      "text/plain": [
       "[<matplotlib.lines.Line2D at 0x13aff797970>]"
      ]
     },
     "execution_count": 5,
     "metadata": {},
     "output_type": "execute_result"
    },
    {
     "data": {
      "image/png": "[encoded data removed]",
      "text/plain": [
       "<Figure size 432x288 with 1 Axes>"
      ]
     },
     "metadata": {
      "needs_background": "light"
     },
     "output_type": "display_data"
    }
   ],
   "source": [
    "def d():\n",
    "    ds = []\n",
    "    h = 0.001\n",
    "    for i in range(len(ys)):\n",
    "        ds.append((f(xs[i]+h) - f(xs[i]))/h)\n",
    "    return ds\n",
    "ds=d()\n",
    "plt.plot(xs, ds)"
   ]
  },
  {
   "cell_type": "code",
   "execution_count": 6,
   "metadata": {},
   "outputs": [
    {
     "name": "stdout",
     "output_type": "stream",
     "text": [
      "d1 4.0\n",
      "d2 3.997\n",
      "slope -3.0000000000001137\n"
     ]
    }
   ],
   "source": [
    "a = 2.0\n",
    "b = -3.0\n",
    "c = 10.0\n",
    "\n",
    "d1 = a*b + c\n",
    "a += h\n",
    "d2 = a*b + c\n",
    "\n",
    "print(f\"d1 {d1}\")\n",
    "print(f\"d2 {d2}\")\n",
    "print(f\"slope\", (d2 - d1)/h)"
   ]
  },
  {
   "cell_type": "code",
   "execution_count": 134,
   "metadata": {},
   "outputs": [],
   "source": [
    "class Value:\n",
    "\n",
    "    def __init__(self, data, _children=(), _op='', label=\"\"):\n",
    "        self.data = data\n",
    "        self.grad = 0.0\n",
    "        self._backward = lambda:None\n",
    "        self._prev = set(_children)\n",
    "        self._op = _op\n",
    "        self.label = label\n",
    "\n",
    "    def __repr__(self):\n",
    "        return (f\"Value(data) = {self.data}\")\n",
    "\n",
    "    def __add__(self, other):\n",
    "        out = Value(self.data+ other.data, (self,other), _op=\"+\")\n",
    "        def _backward():\n",
    "            self.grad = 1.0*out.grad\n",
    "            other.grad = 1.0*out.grad\n",
    "        out._backward = _backward\n",
    "        return out\n",
    "    # def __sub__(self,other):\n",
    "    #     out = Value(self.data-other.data,(self,other),_op=\"-\")\n",
    "    #     return out\n",
    "    # def __div__(self,other):\n",
    "    #     out = Value(self.data/other.data,(self,other),_op=\"/\")\n",
    "    #     return out\n",
    "\n",
    "    def __mul__(self, other):\n",
    "        out = Value(self.data * other.data,(self, other), _op=\"*\")\n",
    "        def _backward():\n",
    "            self.grad = other.data * out.grad\n",
    "            other.grad = self.data * out.grad\n",
    "        out._backward = _backward\n",
    "        return out\n",
    "\n",
    "    def tanh(self):\n",
    "        x = self.data\n",
    "        t = (math.exp(2*x)-1)/(math.exp(2*x) + 1)\n",
    "        out=Value(t, (self,), 'tanh')\n",
    "        def _backward():\n",
    "            self.grad = (1 - t**2) * out.grad\n",
    "        out._backward = _backward\n",
    "        return out"
   ]
  },
  {
   "cell_type": "code",
   "execution_count": 118,
   "metadata": {},
   "outputs": [
    {
     "data": {
      "text/plain": [
       "{Value(data)=10, Value(data)=10.5}"
      ]
     },
     "execution_count": 118,
     "metadata": {},
     "output_type": "execute_result"
    }
   ],
   "source": [
    "a = Value(2.1, label=\"a\")\n",
    "b = Value(5, label=\"b\")\n",
    "c = Value(10, label=\"c\")\n",
    "d = a * b + c\n",
    "d._prev"
   ]
  },
  {
   "cell_type": "code",
   "execution_count": 9,
   "metadata": {},
   "outputs": [],
   "source": [
    "from graphviz import Digraph\n",
    "\n",
    "def trace(root):\n",
    "  # builds a set of all nodes and edges in a graph\n",
    "  nodes, edges = set(), set()\n",
    "  def build(v):\n",
    "    if v not in nodes:\n",
    "      nodes.add(v)\n",
    "      for child in v._prev:\n",
    "        edges.add((child, v))\n",
    "        build(child)\n",
    "  build(root)\n",
    "  return nodes, edges\n",
    "\n",
    "def draw_dot(root):\n",
    "  dot = Digraph(format='svg', graph_attr={'rankdir': 'LR'}) # LR = left to right\n",
    "  \n",
    "  nodes, edges = trace(root)\n",
    "  for n in nodes:\n",
    "    uid = str(id(n))\n",
    "    # for any value in the graph, create a rectangular ('record') node for it\n",
    "    dot.node(name = uid, label = \"{ %s | data %.4f | grad %.4f }\" % (n.label, n.data, n.grad), shape='record')\n",
    "    if n._op:\n",
    "      # if this value is a result of some operation, create an op node for it\n",
    "      dot.node(name = uid + n._op, label = n._op)\n",
    "      # and connect this node to it\n",
    "      dot.edge(uid + n._op, uid)\n",
    "\n",
    "  for n1, n2 in edges:\n",
    "    # connect n1 to the op node of n2\n",
    "    dot.edge(str(id(n1)), str(id(n2)) + n2._op)\n",
    "\n",
    "  return dot\n"
   ]
  },
  {
   "cell_type": "code",
   "execution_count": 10,
   "metadata": {},
   "outputs": [
    {
     "data": {
      "image/svg+xml": "<?xml version=\"1.0\" encoding=\"UTF-8\" standalone=\"no\"?>\n<!DOCTYPE svg PUBLIC \"-//W3C//DTD SVG 1.1//EN\"\n \"http://www.w3.org/Graphics/SVG/1.1/DTD/svg11.dtd\">\n<!-- Generated by graphviz version 7.0.2 (20221119.0110)\n -->\n<!-- Pages: 1 -->\n<svg width=\"833pt\" height=\"127pt\"\n viewBox=\"0.00 0.00 833.00 127.00\" xmlns=\"http://www.w3.org/2000/svg\" xmlns:xlink=\"http://www.w3.org/1999/xlink\">\n<g id=\"graph0\" class=\"graph\" transform=\"scale(1 1) rotate(0) translate(4 123)\">\n<polygon fill=\"white\" stroke=\"none\" points=\"-4,4 -4,-123 829,-123 829,4 -4,4\"/>\n<!-- 1352906104352 -->\n<g id=\"node1\" class=\"node\">\n<title>1352906104352</title>\n<polygon fill=\"none\" stroke=\"black\" points=\"314,-82.5 314,-118.5 508,-118.5 508,-82.5 314,-82.5\"/>\n<text text-anchor=\"middle\" x=\"325.5\" y=\"-96.8\" font-family=\"Times New Roman,serif\" font-size=\"14.00\">c</text>\n<polyline fill=\"none\" stroke=\"black\" points=\"337,-82.5 337,-118.5\"/>\n<text text-anchor=\"middle\" x=\"381\" y=\"-96.8\" font-family=\"Times New Roman,serif\" font-size=\"14.00\">data 10.0000</text>\n<polyline fill=\"none\" stroke=\"black\" points=\"425,-82.5 425,-118.5\"/>\n<text text-anchor=\"middle\" x=\"466.5\" y=\"-96.8\" font-family=\"Times New Roman,serif\" font-size=\"14.00\">grad 0.0000</text>\n</g>\n<!-- 1352906104160+ -->\n<g id=\"node3\" class=\"node\">\n<title>1352906104160+</title>\n<ellipse fill=\"none\" stroke=\"black\" cx=\"571\" cy=\"-72.5\" rx=\"27\" ry=\"18\"/>\n<text text-anchor=\"middle\" x=\"571\" y=\"-68.8\" font-family=\"Times New Roman,serif\" font-size=\"14.00\">+</text>\n</g>\n<!-- 1352906104352&#45;&gt;1352906104160+ -->\n<g id=\"edge6\" class=\"edge\">\n<title>1352906104352&#45;&gt;1352906104160+</title>\n<path fill=\"none\" stroke=\"black\" d=\"M507.55,-83.57C516.53,-81.98 525.21,-80.44 533.1,-79.04\"/>\n<polygon fill=\"black\" stroke=\"black\" points=\"533.67,-82.49 542.9,-77.3 532.45,-75.6 533.67,-82.49\"/>\n</g>\n<!-- 1352906104160 -->\n<g id=\"node2\" class=\"node\">\n<title>1352906104160</title>\n<polygon fill=\"none\" stroke=\"black\" points=\"634,-54.5 634,-90.5 825,-90.5 825,-54.5 634,-54.5\"/>\n<text text-anchor=\"middle\" x=\"644\" y=\"-68.8\" font-family=\"Times New Roman,serif\" font-size=\"14.00\"> </text>\n<polyline fill=\"none\" stroke=\"black\" points=\"654,-54.5 654,-90.5\"/>\n<text text-anchor=\"middle\" x=\"698\" y=\"-68.8\" font-family=\"Times New Roman,serif\" font-size=\"14.00\">data 20.5000</text>\n<polyline fill=\"none\" stroke=\"black\" points=\"742,-54.5 742,-90.5\"/>\n<text text-anchor=\"middle\" x=\"783.5\" y=\"-68.8\" font-family=\"Times New Roman,serif\" font-size=\"14.00\">grad 0.0000</text>\n</g>\n<!-- 1352906104160+&#45;&gt;1352906104160 -->\n<g id=\"edge1\" class=\"edge\">\n<title>1352906104160+&#45;&gt;1352906104160</title>\n<path fill=\"none\" stroke=\"black\" d=\"M598.19,-72.5C605.41,-72.5 613.72,-72.5 622.56,-72.5\"/>\n<polygon fill=\"black\" stroke=\"black\" points=\"622.5,-76 632.5,-72.5 622.5,-69 622.5,-76\"/>\n</g>\n<!-- 1352906011504 -->\n<g id=\"node4\" class=\"node\">\n<title>1352906011504</title>\n<polygon fill=\"none\" stroke=\"black\" points=\"0,-55.5 0,-91.5 188,-91.5 188,-55.5 0,-55.5\"/>\n<text text-anchor=\"middle\" x=\"12\" y=\"-69.8\" font-family=\"Times New Roman,serif\" font-size=\"14.00\">b</text>\n<polyline fill=\"none\" stroke=\"black\" points=\"24,-55.5 24,-91.5\"/>\n<text text-anchor=\"middle\" x=\"64.5\" y=\"-69.8\" font-family=\"Times New Roman,serif\" font-size=\"14.00\">data 5.0000</text>\n<polyline fill=\"none\" stroke=\"black\" points=\"105,-55.5 105,-91.5\"/>\n<text text-anchor=\"middle\" x=\"146.5\" y=\"-69.8\" font-family=\"Times New Roman,serif\" font-size=\"14.00\">grad 0.0000</text>\n</g>\n<!-- 1352906104256* -->\n<g id=\"node7\" class=\"node\">\n<title>1352906104256*</title>\n<ellipse fill=\"none\" stroke=\"black\" cx=\"251\" cy=\"-45.5\" rx=\"27\" ry=\"18\"/>\n<text text-anchor=\"middle\" x=\"251\" y=\"-41.8\" font-family=\"Times New Roman,serif\" font-size=\"14.00\">*</text>\n</g>\n<!-- 1352906011504&#45;&gt;1352906104256* -->\n<g id=\"edge3\" class=\"edge\">\n<title>1352906011504&#45;&gt;1352906104256*</title>\n<path fill=\"none\" stroke=\"black\" d=\"M187.85,-56.73C196.75,-55.12 205.38,-53.56 213.22,-52.14\"/>\n<polygon fill=\"black\" stroke=\"black\" points=\"213.76,-55.6 222.98,-50.38 212.52,-48.71 213.76,-55.6\"/>\n</g>\n<!-- 1352906103680 -->\n<g id=\"node5\" class=\"node\">\n<title>1352906103680</title>\n<polygon fill=\"none\" stroke=\"black\" points=\"0.5,-0.5 0.5,-36.5 187.5,-36.5 187.5,-0.5 0.5,-0.5\"/>\n<text text-anchor=\"middle\" x=\"12\" y=\"-14.8\" font-family=\"Times New Roman,serif\" font-size=\"14.00\">a</text>\n<polyline fill=\"none\" stroke=\"black\" points=\"23.5,-0.5 23.5,-36.5\"/>\n<text text-anchor=\"middle\" x=\"64\" y=\"-14.8\" font-family=\"Times New Roman,serif\" font-size=\"14.00\">data 2.1000</text>\n<polyline fill=\"none\" stroke=\"black\" points=\"104.5,-0.5 104.5,-36.5\"/>\n<text text-anchor=\"middle\" x=\"146\" y=\"-14.8\" font-family=\"Times New Roman,serif\" font-size=\"14.00\">grad 0.0000</text>\n</g>\n<!-- 1352906103680&#45;&gt;1352906104256* -->\n<g id=\"edge4\" class=\"edge\">\n<title>1352906103680&#45;&gt;1352906104256*</title>\n<path fill=\"none\" stroke=\"black\" d=\"M187.4,-34.6C196.55,-36.19 205.41,-37.73 213.44,-39.13\"/>\n<polygon fill=\"black\" stroke=\"black\" points=\"212.62,-42.54 223.08,-40.81 213.82,-35.65 212.62,-42.54\"/>\n</g>\n<!-- 1352906104256 -->\n<g id=\"node6\" class=\"node\">\n<title>1352906104256</title>\n<polygon fill=\"none\" stroke=\"black\" points=\"315.5,-27.5 315.5,-63.5 506.5,-63.5 506.5,-27.5 315.5,-27.5\"/>\n<text text-anchor=\"middle\" x=\"325.5\" y=\"-41.8\" font-family=\"Times New Roman,serif\" font-size=\"14.00\"> </text>\n<polyline fill=\"none\" stroke=\"black\" points=\"335.5,-27.5 335.5,-63.5\"/>\n<text text-anchor=\"middle\" x=\"379.5\" y=\"-41.8\" font-family=\"Times New Roman,serif\" font-size=\"14.00\">data 10.5000</text>\n<polyline fill=\"none\" stroke=\"black\" points=\"423.5,-27.5 423.5,-63.5\"/>\n<text text-anchor=\"middle\" x=\"465\" y=\"-41.8\" font-family=\"Times New Roman,serif\" font-size=\"14.00\">grad 0.0000</text>\n</g>\n<!-- 1352906104256&#45;&gt;1352906104160+ -->\n<g id=\"edge5\" class=\"edge\">\n<title>1352906104256&#45;&gt;1352906104160+</title>\n<path fill=\"none\" stroke=\"black\" d=\"M506.19,-61.6C515.71,-63.22 524.93,-64.8 533.26,-66.22\"/>\n<polygon fill=\"black\" stroke=\"black\" points=\"532.44,-69.63 542.89,-67.87 533.62,-62.73 532.44,-69.63\"/>\n</g>\n<!-- 1352906104256*&#45;&gt;1352906104256 -->\n<g id=\"edge2\" class=\"edge\">\n<title>1352906104256*&#45;&gt;1352906104256</title>\n<path fill=\"none\" stroke=\"black\" d=\"M278.45,-45.5C286.09,-45.5 294.93,-45.5 304.34,-45.5\"/>\n<polygon fill=\"black\" stroke=\"black\" points=\"304.1,-49 314.1,-45.5 304.1,-42 304.1,-49\"/>\n</g>\n</g>\n</svg>\n",
      "text/plain": [
       "<graphviz.graphs.Digraph at 0x13aff7d7fa0>"
      ]
     },
     "execution_count": 10,
     "metadata": {},
     "output_type": "execute_result"
    }
   ],
   "source": [
    "# download link for graphwiz on windows: https://graphviz.org/download\n",
    "import os\n",
    "os.environ[\"PATH\"] += os.pathsep + 'F:\\\\softwares\\\\Graphviz\\\\bin'\n",
    "draw_dot(d)"
   ]
  },
  {
   "cell_type": "code",
   "execution_count": 66,
   "metadata": {},
   "outputs": [
    {
     "data": {
      "text/plain": [
       "Value(data)=-8.0"
      ]
     },
     "execution_count": 66,
     "metadata": {},
     "output_type": "execute_result"
    }
   ],
   "source": [
    "a = Value(2.0, label='a')\n",
    "b = Value(-3.0, label='b')\n",
    "c = Value(10.0, label='c')\n",
    "e = a*b; e.label = 'e'\n",
    "d = e + c; d.label = 'd'\n",
    "f = Value(-2.0, label='f')\n",
    "L = d * f; L.label = 'L'\n",
    "L\n"
   ]
  },
  {
   "cell_type": "code",
   "execution_count": 67,
   "metadata": {},
   "outputs": [
    {
     "data": {
      "image/svg+xml": "<?xml version=\"1.0\" encoding=\"UTF-8\" standalone=\"no\"?>\n<!DOCTYPE svg PUBLIC \"-//W3C//DTD SVG 1.1//EN\"\n \"http://www.w3.org/Graphics/SVG/1.1/DTD/svg11.dtd\">\n<!-- Generated by graphviz version 7.0.2 (20221119.0110)\n -->\n<!-- Pages: 1 -->\n<svg width=\"1157pt\" height=\"156pt\"\n viewBox=\"0.00 0.00 1157.00 156.00\" xmlns=\"http://www.w3.org/2000/svg\" xmlns:xlink=\"http://www.w3.org/1999/xlink\">\n<g id=\"graph0\" class=\"graph\" transform=\"scale(1 1) rotate(0) translate(4 152)\">\n<polygon fill=\"white\" stroke=\"none\" points=\"-4,4 -4,-152 1153,-152 1153,4 -4,4\"/>\n<!-- 1352906145312 -->\n<g id=\"node1\" class=\"node\">\n<title>1352906145312</title>\n<polygon fill=\"none\" stroke=\"black\" points=\"3,-111.5 3,-147.5 190,-147.5 190,-111.5 3,-111.5\"/>\n<text text-anchor=\"middle\" x=\"14.5\" y=\"-125.8\" font-family=\"Times New Roman,serif\" font-size=\"14.00\">a</text>\n<polyline fill=\"none\" stroke=\"black\" points=\"26,-111.5 26,-147.5\"/>\n<text text-anchor=\"middle\" x=\"66.5\" y=\"-125.8\" font-family=\"Times New Roman,serif\" font-size=\"14.00\">data 2.0000</text>\n<polyline fill=\"none\" stroke=\"black\" points=\"107,-111.5 107,-147.5\"/>\n<text text-anchor=\"middle\" x=\"148.5\" y=\"-125.8\" font-family=\"Times New Roman,serif\" font-size=\"14.00\">grad 0.0000</text>\n</g>\n<!-- 1352906887472* -->\n<g id=\"node7\" class=\"node\">\n<title>1352906887472*</title>\n<ellipse fill=\"none\" stroke=\"black\" cx=\"256\" cy=\"-101.5\" rx=\"27\" ry=\"18\"/>\n<text text-anchor=\"middle\" x=\"256\" y=\"-97.8\" font-family=\"Times New Roman,serif\" font-size=\"14.00\">*</text>\n</g>\n<!-- 1352906145312&#45;&gt;1352906887472* -->\n<g id=\"edge7\" class=\"edge\">\n<title>1352906145312&#45;&gt;1352906887472*</title>\n<path fill=\"none\" stroke=\"black\" d=\"M189.57,-113.13C199.66,-111.34 209.45,-109.6 218.25,-108.03\"/>\n<polygon fill=\"black\" stroke=\"black\" points=\"218.85,-111.48 228.08,-106.29 217.62,-104.59 218.85,-111.48\"/>\n</g>\n<!-- 1352906887808 -->\n<g id=\"node2\" class=\"node\">\n<title>1352906887808</title>\n<polygon fill=\"none\" stroke=\"black\" points=\"955,-27.5 955,-63.5 1149,-63.5 1149,-27.5 955,-27.5\"/>\n<text text-anchor=\"middle\" x=\"967.5\" y=\"-41.8\" font-family=\"Times New Roman,serif\" font-size=\"14.00\">L</text>\n<polyline fill=\"none\" stroke=\"black\" points=\"980,-27.5 980,-63.5\"/>\n<text text-anchor=\"middle\" x=\"1023\" y=\"-41.8\" font-family=\"Times New Roman,serif\" font-size=\"14.00\">data &#45;8.0000</text>\n<polyline fill=\"none\" stroke=\"black\" points=\"1066,-27.5 1066,-63.5\"/>\n<text text-anchor=\"middle\" x=\"1107.5\" y=\"-41.8\" font-family=\"Times New Roman,serif\" font-size=\"14.00\">grad 0.0000</text>\n</g>\n<!-- 1352906887808* -->\n<g id=\"node3\" class=\"node\">\n<title>1352906887808*</title>\n<ellipse fill=\"none\" stroke=\"black\" cx=\"892\" cy=\"-45.5\" rx=\"27\" ry=\"18\"/>\n<text text-anchor=\"middle\" x=\"892\" y=\"-41.8\" font-family=\"Times New Roman,serif\" font-size=\"14.00\">*</text>\n</g>\n<!-- 1352906887808*&#45;&gt;1352906887808 -->\n<g id=\"edge1\" class=\"edge\">\n<title>1352906887808*&#45;&gt;1352906887808</title>\n<path fill=\"none\" stroke=\"black\" d=\"M919.45,-45.5C926.67,-45.5 934.97,-45.5 943.82,-45.5\"/>\n<polygon fill=\"black\" stroke=\"black\" points=\"943.75,-49 953.75,-45.5 943.75,-42 943.75,-49\"/>\n</g>\n<!-- 1352906887328 -->\n<g id=\"node4\" class=\"node\">\n<title>1352906887328</title>\n<polygon fill=\"none\" stroke=\"black\" points=\"639,-0.5 639,-36.5 829,-36.5 829,-0.5 639,-0.5\"/>\n<text text-anchor=\"middle\" x=\"649.5\" y=\"-14.8\" font-family=\"Times New Roman,serif\" font-size=\"14.00\">f</text>\n<polyline fill=\"none\" stroke=\"black\" points=\"660,-0.5 660,-36.5\"/>\n<text text-anchor=\"middle\" x=\"703\" y=\"-14.8\" font-family=\"Times New Roman,serif\" font-size=\"14.00\">data &#45;2.0000</text>\n<polyline fill=\"none\" stroke=\"black\" points=\"746,-0.5 746,-36.5\"/>\n<text text-anchor=\"middle\" x=\"787.5\" y=\"-14.8\" font-family=\"Times New Roman,serif\" font-size=\"14.00\">grad 0.0000</text>\n</g>\n<!-- 1352906887328&#45;&gt;1352906887808* -->\n<g id=\"edge5\" class=\"edge\">\n<title>1352906887328&#45;&gt;1352906887808*</title>\n<path fill=\"none\" stroke=\"black\" d=\"M828.9,-34.75C837.81,-36.29 846.43,-37.79 854.28,-39.14\"/>\n<polygon fill=\"black\" stroke=\"black\" points=\"853.57,-42.57 864.02,-40.83 854.76,-35.68 853.57,-42.57\"/>\n</g>\n<!-- 1352906143968 -->\n<g id=\"node5\" class=\"node\">\n<title>1352906143968</title>\n<polygon fill=\"none\" stroke=\"black\" points=\"0,-56.5 0,-92.5 193,-92.5 193,-56.5 0,-56.5\"/>\n<text text-anchor=\"middle\" x=\"12\" y=\"-70.8\" font-family=\"Times New Roman,serif\" font-size=\"14.00\">b</text>\n<polyline fill=\"none\" stroke=\"black\" points=\"24,-56.5 24,-92.5\"/>\n<text text-anchor=\"middle\" x=\"67\" y=\"-70.8\" font-family=\"Times New Roman,serif\" font-size=\"14.00\">data &#45;3.0000</text>\n<polyline fill=\"none\" stroke=\"black\" points=\"110,-56.5 110,-92.5\"/>\n<text text-anchor=\"middle\" x=\"151.5\" y=\"-70.8\" font-family=\"Times New Roman,serif\" font-size=\"14.00\">grad 0.0000</text>\n</g>\n<!-- 1352906143968&#45;&gt;1352906887472* -->\n<g id=\"edge4\" class=\"edge\">\n<title>1352906143968&#45;&gt;1352906887472*</title>\n<path fill=\"none\" stroke=\"black\" d=\"M192.75,-90.83C201.7,-92.36 210.35,-93.85 218.21,-95.19\"/>\n<polygon fill=\"black\" stroke=\"black\" points=\"217.54,-98.63 227.98,-96.87 218.72,-91.73 217.54,-98.63\"/>\n</g>\n<!-- 1352906887472 -->\n<g id=\"node6\" class=\"node\">\n<title>1352906887472</title>\n<polygon fill=\"none\" stroke=\"black\" points=\"320,-83.5 320,-119.5 512,-119.5 512,-83.5 320,-83.5\"/>\n<text text-anchor=\"middle\" x=\"331.5\" y=\"-97.8\" font-family=\"Times New Roman,serif\" font-size=\"14.00\">e</text>\n<polyline fill=\"none\" stroke=\"black\" points=\"343,-83.5 343,-119.5\"/>\n<text text-anchor=\"middle\" x=\"386\" y=\"-97.8\" font-family=\"Times New Roman,serif\" font-size=\"14.00\">data &#45;6.0000</text>\n<polyline fill=\"none\" stroke=\"black\" points=\"429,-83.5 429,-119.5\"/>\n<text text-anchor=\"middle\" x=\"470.5\" y=\"-97.8\" font-family=\"Times New Roman,serif\" font-size=\"14.00\">grad 0.0000</text>\n</g>\n<!-- 1352906891072+ -->\n<g id=\"node9\" class=\"node\">\n<title>1352906891072+</title>\n<ellipse fill=\"none\" stroke=\"black\" cx=\"576\" cy=\"-73.5\" rx=\"27\" ry=\"18\"/>\n<text text-anchor=\"middle\" x=\"576\" y=\"-69.8\" font-family=\"Times New Roman,serif\" font-size=\"14.00\">+</text>\n</g>\n<!-- 1352906887472&#45;&gt;1352906891072+ -->\n<g id=\"edge9\" class=\"edge\">\n<title>1352906887472&#45;&gt;1352906891072+</title>\n<path fill=\"none\" stroke=\"black\" d=\"M511.65,-84.73C521.01,-83.07 530.06,-81.46 538.26,-80.01\"/>\n<polygon fill=\"black\" stroke=\"black\" points=\"538.86,-83.46 548.1,-78.27 537.64,-76.57 538.86,-83.46\"/>\n</g>\n<!-- 1352906887472*&#45;&gt;1352906887472 -->\n<g id=\"edge2\" class=\"edge\">\n<title>1352906887472*&#45;&gt;1352906887472</title>\n<path fill=\"none\" stroke=\"black\" d=\"M283.45,-101.5C290.94,-101.5 299.59,-101.5 308.8,-101.5\"/>\n<polygon fill=\"black\" stroke=\"black\" points=\"308.76,-105 318.76,-101.5 308.76,-98 308.76,-105\"/>\n</g>\n<!-- 1352906891072 -->\n<g id=\"node8\" class=\"node\">\n<title>1352906891072</title>\n<polygon fill=\"none\" stroke=\"black\" points=\"640,-55.5 640,-91.5 828,-91.5 828,-55.5 640,-55.5\"/>\n<text text-anchor=\"middle\" x=\"652\" y=\"-69.8\" font-family=\"Times New Roman,serif\" font-size=\"14.00\">d</text>\n<polyline fill=\"none\" stroke=\"black\" points=\"664,-55.5 664,-91.5\"/>\n<text text-anchor=\"middle\" x=\"704.5\" y=\"-69.8\" font-family=\"Times New Roman,serif\" font-size=\"14.00\">data 4.0000</text>\n<polyline fill=\"none\" stroke=\"black\" points=\"745,-55.5 745,-91.5\"/>\n<text text-anchor=\"middle\" x=\"786.5\" y=\"-69.8\" font-family=\"Times New Roman,serif\" font-size=\"14.00\">grad 0.0000</text>\n</g>\n<!-- 1352906891072&#45;&gt;1352906887808* -->\n<g id=\"edge6\" class=\"edge\">\n<title>1352906891072&#45;&gt;1352906887808*</title>\n<path fill=\"none\" stroke=\"black\" d=\"M828,-56.81C837.2,-55.16 846.12,-53.56 854.21,-52.1\"/>\n<polygon fill=\"black\" stroke=\"black\" points=\"854.69,-55.57 863.91,-50.36 853.45,-48.68 854.69,-55.57\"/>\n</g>\n<!-- 1352906891072+&#45;&gt;1352906891072 -->\n<g id=\"edge3\" class=\"edge\">\n<title>1352906891072+&#45;&gt;1352906891072</title>\n<path fill=\"none\" stroke=\"black\" d=\"M603.46,-73.5C610.94,-73.5 619.56,-73.5 628.73,-73.5\"/>\n<polygon fill=\"black\" stroke=\"black\" points=\"628.64,-77 638.64,-73.5 628.64,-70 628.64,-77\"/>\n</g>\n<!-- 1352906889104 -->\n<g id=\"node10\" class=\"node\">\n<title>1352906889104</title>\n<polygon fill=\"none\" stroke=\"black\" points=\"319,-28.5 319,-64.5 513,-64.5 513,-28.5 319,-28.5\"/>\n<text text-anchor=\"middle\" x=\"330.5\" y=\"-42.8\" font-family=\"Times New Roman,serif\" font-size=\"14.00\">c</text>\n<polyline fill=\"none\" stroke=\"black\" points=\"342,-28.5 342,-64.5\"/>\n<text text-anchor=\"middle\" x=\"386\" y=\"-42.8\" font-family=\"Times New Roman,serif\" font-size=\"14.00\">data 10.0000</text>\n<polyline fill=\"none\" stroke=\"black\" points=\"430,-28.5 430,-64.5\"/>\n<text text-anchor=\"middle\" x=\"471.5\" y=\"-42.8\" font-family=\"Times New Roman,serif\" font-size=\"14.00\">grad 0.0000</text>\n</g>\n<!-- 1352906889104&#45;&gt;1352906891072+ -->\n<g id=\"edge8\" class=\"edge\">\n<title>1352906889104&#45;&gt;1352906891072+</title>\n<path fill=\"none\" stroke=\"black\" d=\"M512.55,-62.83C521.53,-64.36 530.21,-65.85 538.1,-67.19\"/>\n<polygon fill=\"black\" stroke=\"black\" points=\"537.46,-70.63 547.9,-68.87 538.64,-63.73 537.46,-70.63\"/>\n</g>\n</g>\n</svg>\n",
      "text/plain": [
       "<graphviz.graphs.Digraph at 0x13aff7cd4f0>"
      ]
     },
     "execution_count": 67,
     "metadata": {},
     "output_type": "execute_result"
    }
   ],
   "source": [
    "draw_dot(L)"
   ]
  },
  {
   "cell_type": "code",
   "execution_count": 68,
   "metadata": {},
   "outputs": [],
   "source": [
    "# Manual Gradients\n",
    "\"\"\"\n",
    "\n",
    "From mulitvar caluclus\n",
    "\n",
    "dl/dd=f\n",
    "dl/df=d\n",
    "\n",
    "dd/de=d\n",
    "dd/dc=d\n",
    "\n",
    "da/de=b\n",
    "db/de=a\n",
    "\n",
    "\n",
    "\n",
    "dl/dc=dl/df*df/dc\n",
    "dl/de=dl/df*df/de\n",
    "\n",
    "dl/da=dl/de*/de/da\n",
    "dl/db=dl/de*/de/db\n",
    "\n",
    "\"\"\"\n",
    "L.grad=1\n",
    "d.grad=f.data\n",
    "f.grad=d.data\n",
    "c.grad=d.grad\n",
    "e.grad=d.grad\n",
    "a.grad=b.data*e.grad\n",
    "b.grad=a.data*e.grad"
   ]
  },
  {
   "cell_type": "code",
   "execution_count": 38,
   "metadata": {},
   "outputs": [
    {
     "name": "stdout",
     "output_type": "stream",
     "text": [
      "6.000000000021544\n"
     ]
    }
   ],
   "source": [
    "def gc():\n",
    "    a = Value(2.0, label='a')\n",
    "    b = Value(-3.0, label='b')\n",
    "    c = Value(10.0, label='c')\n",
    "    e = a*b; e.label = 'e'\n",
    "    d = e + c; d.label = 'd'\n",
    "    f = Value(-2.0, label='f')\n",
    "    L = d * f; L.label = 'L'\n",
    "\n",
    "    L1=L.data\n",
    "    h=.0001\n",
    "    a = Value(2.0+h, label='a')\n",
    "    b = Value(-3.0, label='b')\n",
    "    c = Value(10.0, label='c')\n",
    "    e = a*b; e.label = 'e'\n",
    "    d = e + c; d.label = 'd'\n",
    "    f = Value(-2.0, label='f')\n",
    "    L = d * f; L.label = 'L'\n",
    "    L2=L.data\n",
    "    print((L2-L1)/h)\n",
    "gc()\n"
   ]
  },
  {
   "cell_type": "code",
   "execution_count": 78,
   "metadata": {},
   "outputs": [
    {
     "name": "stdout",
     "output_type": "stream",
     "text": [
      "Value(data)=2.6000000000000005 Value(data)=-3.4000000000000004 Value(data)=9.800000000000004 Value(data)=-1.5999999999999996\n",
      "-1.536000000000001\n"
     ]
    }
   ],
   "source": [
    "a.data+=0.01*a.grad\n",
    "b.data+=0.01*b.grad\n",
    "c.data+=0.01*c.grad\n",
    "f.data+=0.01*f.grad\n",
    "print(a,b,c,f)\n",
    "e=a*b\n",
    "d=e+c\n",
    "L=d*f\n",
    "\n",
    "print(L.data)"
   ]
  },
  {
   "cell_type": "code",
   "execution_count": 80,
   "metadata": {},
   "outputs": [
    {
     "data": {
      "text/plain": [
       "[<matplotlib.lines.Line2D at 0x13aff979490>]"
      ]
     },
     "execution_count": 80,
     "metadata": {},
     "output_type": "execute_result"
    },
    {
     "data": {
      "image/png": "[encoded data removed]",
      "text/plain": [
       "<Figure size 432x288 with 1 Axes>"
      ]
     },
     "metadata": {
      "needs_background": "light"
     },
     "output_type": "display_data"
    }
   ],
   "source": [
    "plt.plot(np.arange(-5,5,0.2),np.tanh(np.arange(-5,5,0.2)))#activation function"
   ]
  },
  {
   "cell_type": "code",
   "execution_count": 137,
   "metadata": {},
   "outputs": [],
   "source": [
    "#inputs\n",
    "x1=Value(2.0,label='x1')\n",
    "x2=Value(0.0,label='x2')\n",
    "#weights\n",
    "w1=Value(-3.0,label='w1')\n",
    "w2=Value(1.0,label='w1')\n",
    "#bias of the neuron this specific number for numbers comming out nicely\n",
    "b=Value(6.8813735870195432,label='b')\n",
    "# x1*w1+x2+w2+b\n",
    "x1w1=x1*w1;x1w1.label='x1w1'\n",
    "x2w2=x2*w2;x2w2.label='x2w2'\n",
    "\n",
    "x1w1x2w2=x1w1+x2w2;x1w1x2w2.label=\"x1w1+x2w2\"\n",
    "n=x1w1x2w2+b;n.label='n'\n",
    "o=n.tanh();o.label='o'\n"
   ]
  },
  {
   "cell_type": "code",
   "execution_count": 145,
   "metadata": {},
   "outputs": [
    {
     "data": {
      "image/svg+xml": "<?xml version=\"1.0\" encoding=\"UTF-8\" standalone=\"no\"?>\n<!DOCTYPE svg PUBLIC \"-//W3C//DTD SVG 1.1//EN\"\n \"http://www.w3.org/Graphics/SVG/1.1/DTD/svg11.dtd\">\n<!-- Generated by graphviz version 7.0.2 (20221119.0110)\n -->\n<!-- Pages: 1 -->\n<svg width=\"1559pt\" height=\"210pt\"\n viewBox=\"0.00 0.00 1559.00 210.00\" xmlns=\"http://www.w3.org/2000/svg\" xmlns:xlink=\"http://www.w3.org/1999/xlink\">\n<g id=\"graph0\" class=\"graph\" transform=\"scale(1 1) rotate(0) translate(4 206)\">\n<polygon fill=\"white\" stroke=\"none\" points=\"-4,4 -4,-206 1555,-206 1555,4 -4,4\"/>\n<!-- 1352909295680 -->\n<g id=\"node1\" class=\"node\">\n<title>1352909295680</title>\n<polygon fill=\"none\" stroke=\"black\" points=\"2.5,-165.5 2.5,-201.5 199.5,-201.5 199.5,-165.5 2.5,-165.5\"/>\n<text text-anchor=\"middle\" x=\"19\" y=\"-179.8\" font-family=\"Times New Roman,serif\" font-size=\"14.00\">w1</text>\n<polyline fill=\"none\" stroke=\"black\" points=\"35.5,-165.5 35.5,-201.5\"/>\n<text text-anchor=\"middle\" x=\"76\" y=\"-179.8\" font-family=\"Times New Roman,serif\" font-size=\"14.00\">data 1.0000</text>\n<polyline fill=\"none\" stroke=\"black\" points=\"116.5,-165.5 116.5,-201.5\"/>\n<text text-anchor=\"middle\" x=\"158\" y=\"-179.8\" font-family=\"Times New Roman,serif\" font-size=\"14.00\">grad 0.0000</text>\n</g>\n<!-- 1352909296592* -->\n<g id=\"node15\" class=\"node\">\n<title>1352909296592*</title>\n<ellipse fill=\"none\" stroke=\"black\" cx=\"265\" cy=\"-128.5\" rx=\"27\" ry=\"18\"/>\n<text text-anchor=\"middle\" x=\"265\" y=\"-124.8\" font-family=\"Times New Roman,serif\" font-size=\"14.00\">*</text>\n</g>\n<!-- 1352909295680&#45;&gt;1352909296592* -->\n<g id=\"edge7\" class=\"edge\">\n<title>1352909295680&#45;&gt;1352909296592*</title>\n<path fill=\"none\" stroke=\"black\" d=\"M173.99,-165.56C183.48,-162.75 193.03,-159.71 202,-156.5 212.1,-152.88 222.83,-148.31 232.49,-143.91\"/>\n<polygon fill=\"black\" stroke=\"black\" points=\"233.88,-147.12 241.46,-139.72 230.92,-140.78 233.88,-147.12\"/>\n</g>\n<!-- 1352909723728 -->\n<g id=\"node2\" class=\"node\">\n<title>1352909723728</title>\n<polygon fill=\"none\" stroke=\"black\" points=\"1050,-54.5 1050,-90.5 1237,-90.5 1237,-54.5 1050,-54.5\"/>\n<text text-anchor=\"middle\" x=\"1061.5\" y=\"-68.8\" font-family=\"Times New Roman,serif\" font-size=\"14.00\">n</text>\n<polyline fill=\"none\" stroke=\"black\" points=\"1073,-54.5 1073,-90.5\"/>\n<text text-anchor=\"middle\" x=\"1113.5\" y=\"-68.8\" font-family=\"Times New Roman,serif\" font-size=\"14.00\">data 0.8814</text>\n<polyline fill=\"none\" stroke=\"black\" points=\"1154,-54.5 1154,-90.5\"/>\n<text text-anchor=\"middle\" x=\"1195.5\" y=\"-68.8\" font-family=\"Times New Roman,serif\" font-size=\"14.00\">grad 0.5000</text>\n</g>\n<!-- 1352909723056tanh -->\n<g id=\"node13\" class=\"node\">\n<title>1352909723056tanh</title>\n<ellipse fill=\"none\" stroke=\"black\" cx=\"1300\" cy=\"-72.5\" rx=\"27\" ry=\"18\"/>\n<text text-anchor=\"middle\" x=\"1300\" y=\"-68.8\" font-family=\"Times New Roman,serif\" font-size=\"14.00\">tanh</text>\n</g>\n<!-- 1352909723728&#45;&gt;1352909723056tanh -->\n<g id=\"edge13\" class=\"edge\">\n<title>1352909723728&#45;&gt;1352909723056tanh</title>\n<path fill=\"none\" stroke=\"black\" d=\"M1236.6,-72.5C1245.26,-72.5 1253.65,-72.5 1261.33,-72.5\"/>\n<polygon fill=\"black\" stroke=\"black\" points=\"1261.23,-76 1271.23,-72.5 1261.23,-69 1261.23,-76\"/>\n</g>\n<!-- 1352909723728+ -->\n<g id=\"node3\" class=\"node\">\n<title>1352909723728+</title>\n<ellipse fill=\"none\" stroke=\"black\" cx=\"987\" cy=\"-72.5\" rx=\"27\" ry=\"18\"/>\n<text text-anchor=\"middle\" x=\"987\" y=\"-68.8\" font-family=\"Times New Roman,serif\" font-size=\"14.00\">+</text>\n</g>\n<!-- 1352909723728+&#45;&gt;1352909723728 -->\n<g id=\"edge1\" class=\"edge\">\n<title>1352909723728+&#45;&gt;1352909723728</title>\n<path fill=\"none\" stroke=\"black\" d=\"M1014.21,-72.5C1021.47,-72.5 1029.83,-72.5 1038.71,-72.5\"/>\n<polygon fill=\"black\" stroke=\"black\" points=\"1038.7,-76 1048.7,-72.5 1038.7,-69 1038.7,-76\"/>\n</g>\n<!-- 1352909296736 -->\n<g id=\"node4\" class=\"node\">\n<title>1352909296736</title>\n<polygon fill=\"none\" stroke=\"black\" points=\"328,-55.5 328,-91.5 544,-91.5 544,-55.5 328,-55.5\"/>\n<text text-anchor=\"middle\" x=\"351.5\" y=\"-69.8\" font-family=\"Times New Roman,serif\" font-size=\"14.00\">x1w1</text>\n<polyline fill=\"none\" stroke=\"black\" points=\"375,-55.5 375,-91.5\"/>\n<text text-anchor=\"middle\" x=\"418\" y=\"-69.8\" font-family=\"Times New Roman,serif\" font-size=\"14.00\">data &#45;6.0000</text>\n<polyline fill=\"none\" stroke=\"black\" points=\"461,-55.5 461,-91.5\"/>\n<text text-anchor=\"middle\" x=\"502.5\" y=\"-69.8\" font-family=\"Times New Roman,serif\" font-size=\"14.00\">grad 0.5000</text>\n</g>\n<!-- 1352909725456+ -->\n<g id=\"node9\" class=\"node\">\n<title>1352909725456+</title>\n<ellipse fill=\"none\" stroke=\"black\" cx=\"607\" cy=\"-100.5\" rx=\"27\" ry=\"18\"/>\n<text text-anchor=\"middle\" x=\"607\" y=\"-96.8\" font-family=\"Times New Roman,serif\" font-size=\"14.00\">+</text>\n</g>\n<!-- 1352909296736&#45;&gt;1352909725456+ -->\n<g id=\"edge8\" class=\"edge\">\n<title>1352909296736&#45;&gt;1352909725456+</title>\n<path fill=\"none\" stroke=\"black\" d=\"M543.55,-90.52C552.57,-91.96 561.22,-93.35 569.07,-94.6\"/>\n<polygon fill=\"black\" stroke=\"black\" points=\"568.37,-98.03 578.8,-96.15 569.48,-91.12 568.37,-98.03\"/>\n</g>\n<!-- 1352909296736* -->\n<g id=\"node5\" class=\"node\">\n<title>1352909296736*</title>\n<ellipse fill=\"none\" stroke=\"black\" cx=\"265\" cy=\"-73.5\" rx=\"27\" ry=\"18\"/>\n<text text-anchor=\"middle\" x=\"265\" y=\"-69.8\" font-family=\"Times New Roman,serif\" font-size=\"14.00\">*</text>\n</g>\n<!-- 1352909296736*&#45;&gt;1352909296736 -->\n<g id=\"edge2\" class=\"edge\">\n<title>1352909296736*&#45;&gt;1352909296736</title>\n<path fill=\"none\" stroke=\"black\" d=\"M292.41,-73.5C299.59,-73.5 307.85,-73.5 316.71,-73.5\"/>\n<polygon fill=\"black\" stroke=\"black\" points=\"316.7,-77 326.7,-73.5 316.7,-70 316.7,-77\"/>\n</g>\n<!-- 1352909297792 -->\n<g id=\"node6\" class=\"node\">\n<title>1352909297792</title>\n<polygon fill=\"none\" stroke=\"black\" points=\"2,-55.5 2,-91.5 200,-91.5 200,-55.5 2,-55.5\"/>\n<text text-anchor=\"middle\" x=\"17\" y=\"-69.8\" font-family=\"Times New Roman,serif\" font-size=\"14.00\">x1</text>\n<polyline fill=\"none\" stroke=\"black\" points=\"32,-55.5 32,-91.5\"/>\n<text text-anchor=\"middle\" x=\"72.5\" y=\"-69.8\" font-family=\"Times New Roman,serif\" font-size=\"14.00\">data 2.0000</text>\n<polyline fill=\"none\" stroke=\"black\" points=\"113,-55.5 113,-91.5\"/>\n<text text-anchor=\"middle\" x=\"156.5\" y=\"-69.8\" font-family=\"Times New Roman,serif\" font-size=\"14.00\">grad &#45;1.5000</text>\n</g>\n<!-- 1352909297792&#45;&gt;1352909296736* -->\n<g id=\"edge11\" class=\"edge\">\n<title>1352909297792&#45;&gt;1352909296736*</title>\n<path fill=\"none\" stroke=\"black\" d=\"M199.97,-73.5C209.29,-73.5 218.28,-73.5 226.45,-73.5\"/>\n<polygon fill=\"black\" stroke=\"black\" points=\"226.23,-77 236.23,-73.5 226.23,-70 226.23,-77\"/>\n</g>\n<!-- 1352909297840 -->\n<g id=\"node7\" class=\"node\">\n<title>1352909297840</title>\n<polygon fill=\"none\" stroke=\"black\" points=\"703,-27.5 703,-63.5 891,-63.5 891,-27.5 703,-27.5\"/>\n<text text-anchor=\"middle\" x=\"715\" y=\"-41.8\" font-family=\"Times New Roman,serif\" font-size=\"14.00\">b</text>\n<polyline fill=\"none\" stroke=\"black\" points=\"727,-27.5 727,-63.5\"/>\n<text text-anchor=\"middle\" x=\"767.5\" y=\"-41.8\" font-family=\"Times New Roman,serif\" font-size=\"14.00\">data 6.8814</text>\n<polyline fill=\"none\" stroke=\"black\" points=\"808,-27.5 808,-63.5\"/>\n<text text-anchor=\"middle\" x=\"849.5\" y=\"-41.8\" font-family=\"Times New Roman,serif\" font-size=\"14.00\">grad 0.5000</text>\n</g>\n<!-- 1352909297840&#45;&gt;1352909723728+ -->\n<g id=\"edge14\" class=\"edge\">\n<title>1352909297840&#45;&gt;1352909723728+</title>\n<path fill=\"none\" stroke=\"black\" d=\"M890.9,-58.84C911.64,-61.82 932.46,-64.81 949.31,-67.23\"/>\n<polygon fill=\"black\" stroke=\"black\" points=\"948.39,-70.63 958.79,-68.59 949.39,-63.71 948.39,-70.63\"/>\n</g>\n<!-- 1352909725456 -->\n<g id=\"node8\" class=\"node\">\n<title>1352909725456</title>\n<polygon fill=\"none\" stroke=\"black\" points=\"670,-82.5 670,-118.5 924,-118.5 924,-82.5 670,-82.5\"/>\n<text text-anchor=\"middle\" x=\"712.5\" y=\"-96.8\" font-family=\"Times New Roman,serif\" font-size=\"14.00\">x1w1+x2w2</text>\n<polyline fill=\"none\" stroke=\"black\" points=\"755,-82.5 755,-118.5\"/>\n<text text-anchor=\"middle\" x=\"798\" y=\"-96.8\" font-family=\"Times New Roman,serif\" font-size=\"14.00\">data &#45;6.0000</text>\n<polyline fill=\"none\" stroke=\"black\" points=\"841,-82.5 841,-118.5\"/>\n<text text-anchor=\"middle\" x=\"882.5\" y=\"-96.8\" font-family=\"Times New Roman,serif\" font-size=\"14.00\">grad 0.5000</text>\n</g>\n<!-- 1352909725456&#45;&gt;1352909723728+ -->\n<g id=\"edge10\" class=\"edge\">\n<title>1352909725456&#45;&gt;1352909723728+</title>\n<path fill=\"none\" stroke=\"black\" d=\"M918.66,-82.53C929.5,-80.92 939.82,-79.38 948.98,-78.01\"/>\n<polygon fill=\"black\" stroke=\"black\" points=\"949.43,-81.48 958.81,-76.55 948.4,-74.56 949.43,-81.48\"/>\n</g>\n<!-- 1352909725456+&#45;&gt;1352909725456 -->\n<g id=\"edge3\" class=\"edge\">\n<title>1352909725456+&#45;&gt;1352909725456</title>\n<path fill=\"none\" stroke=\"black\" d=\"M634.14,-100.5C641.39,-100.5 649.78,-100.5 658.86,-100.5\"/>\n<polygon fill=\"black\" stroke=\"black\" points=\"658.74,-104 668.74,-100.5 658.74,-97 658.74,-104\"/>\n</g>\n<!-- 1352909296976 -->\n<g id=\"node10\" class=\"node\">\n<title>1352909296976</title>\n<polygon fill=\"none\" stroke=\"black\" points=\"4,-110.5 4,-146.5 198,-146.5 198,-110.5 4,-110.5\"/>\n<text text-anchor=\"middle\" x=\"19\" y=\"-124.8\" font-family=\"Times New Roman,serif\" font-size=\"14.00\">x2</text>\n<polyline fill=\"none\" stroke=\"black\" points=\"34,-110.5 34,-146.5\"/>\n<text text-anchor=\"middle\" x=\"74.5\" y=\"-124.8\" font-family=\"Times New Roman,serif\" font-size=\"14.00\">data 0.0000</text>\n<polyline fill=\"none\" stroke=\"black\" points=\"115,-110.5 115,-146.5\"/>\n<text text-anchor=\"middle\" x=\"156.5\" y=\"-124.8\" font-family=\"Times New Roman,serif\" font-size=\"14.00\">grad 0.5000</text>\n</g>\n<!-- 1352909296976&#45;&gt;1352909296592* -->\n<g id=\"edge6\" class=\"edge\">\n<title>1352909296976&#45;&gt;1352909296592*</title>\n<path fill=\"none\" stroke=\"black\" d=\"M197.64,-128.5C207.72,-128.5 217.49,-128.5 226.29,-128.5\"/>\n<polygon fill=\"black\" stroke=\"black\" points=\"226.11,-132 236.11,-128.5 226.11,-125 226.11,-132\"/>\n</g>\n<!-- 1352909298080 -->\n<g id=\"node11\" class=\"node\">\n<title>1352909298080</title>\n<polygon fill=\"none\" stroke=\"black\" points=\"0,-0.5 0,-36.5 202,-36.5 202,-0.5 0,-0.5\"/>\n<text text-anchor=\"middle\" x=\"16.5\" y=\"-14.8\" font-family=\"Times New Roman,serif\" font-size=\"14.00\">w1</text>\n<polyline fill=\"none\" stroke=\"black\" points=\"33,-0.5 33,-36.5\"/>\n<text text-anchor=\"middle\" x=\"76\" y=\"-14.8\" font-family=\"Times New Roman,serif\" font-size=\"14.00\">data &#45;3.0000</text>\n<polyline fill=\"none\" stroke=\"black\" points=\"119,-0.5 119,-36.5\"/>\n<text text-anchor=\"middle\" x=\"160.5\" y=\"-14.8\" font-family=\"Times New Roman,serif\" font-size=\"14.00\">grad 1.0000</text>\n</g>\n<!-- 1352909298080&#45;&gt;1352909296736* -->\n<g id=\"edge12\" class=\"edge\">\n<title>1352909298080&#45;&gt;1352909296736*</title>\n<path fill=\"none\" stroke=\"black\" d=\"M170.98,-36.47C181.45,-39.58 192.06,-42.96 202,-46.5 211.97,-50.05 222.6,-54.44 232.19,-58.65\"/>\n<polygon fill=\"black\" stroke=\"black\" points=\"230.55,-61.75 241.11,-62.64 233.41,-55.36 230.55,-61.75\"/>\n</g>\n<!-- 1352909723056 -->\n<g id=\"node12\" class=\"node\">\n<title>1352909723056</title>\n<polygon fill=\"none\" stroke=\"black\" points=\"1363,-54.5 1363,-90.5 1551,-90.5 1551,-54.5 1363,-54.5\"/>\n<text text-anchor=\"middle\" x=\"1375\" y=\"-68.8\" font-family=\"Times New Roman,serif\" font-size=\"14.00\">o</text>\n<polyline fill=\"none\" stroke=\"black\" points=\"1387,-54.5 1387,-90.5\"/>\n<text text-anchor=\"middle\" x=\"1427.5\" y=\"-68.8\" font-family=\"Times New Roman,serif\" font-size=\"14.00\">data 0.7071</text>\n<polyline fill=\"none\" stroke=\"black\" points=\"1468,-54.5 1468,-90.5\"/>\n<text text-anchor=\"middle\" x=\"1509.5\" y=\"-68.8\" font-family=\"Times New Roman,serif\" font-size=\"14.00\">grad 1.0000</text>\n</g>\n<!-- 1352909723056tanh&#45;&gt;1352909723056 -->\n<g id=\"edge4\" class=\"edge\">\n<title>1352909723056tanh&#45;&gt;1352909723056</title>\n<path fill=\"none\" stroke=\"black\" d=\"M1327.29,-72.5C1334.52,-72.5 1342.82,-72.5 1351.66,-72.5\"/>\n<polygon fill=\"black\" stroke=\"black\" points=\"1351.57,-76 1361.57,-72.5 1351.57,-69 1351.57,-76\"/>\n</g>\n<!-- 1352909296592 -->\n<g id=\"node14\" class=\"node\">\n<title>1352909296592</title>\n<polygon fill=\"none\" stroke=\"black\" points=\"330.5,-110.5 330.5,-146.5 541.5,-146.5 541.5,-110.5 330.5,-110.5\"/>\n<text text-anchor=\"middle\" x=\"354\" y=\"-124.8\" font-family=\"Times New Roman,serif\" font-size=\"14.00\">x2w2</text>\n<polyline fill=\"none\" stroke=\"black\" points=\"377.5,-110.5 377.5,-146.5\"/>\n<text text-anchor=\"middle\" x=\"418\" y=\"-124.8\" font-family=\"Times New Roman,serif\" font-size=\"14.00\">data 0.0000</text>\n<polyline fill=\"none\" stroke=\"black\" points=\"458.5,-110.5 458.5,-146.5\"/>\n<text text-anchor=\"middle\" x=\"500\" y=\"-124.8\" font-family=\"Times New Roman,serif\" font-size=\"14.00\">grad 0.5000</text>\n</g>\n<!-- 1352909296592&#45;&gt;1352909725456+ -->\n<g id=\"edge9\" class=\"edge\">\n<title>1352909296592&#45;&gt;1352909725456+</title>\n<path fill=\"none\" stroke=\"black\" d=\"M541.14,-111.25C551.14,-109.59 560.74,-108 569.36,-106.57\"/>\n<polygon fill=\"black\" stroke=\"black\" points=\"569.65,-110.07 578.94,-104.98 568.5,-103.16 569.65,-110.07\"/>\n</g>\n<!-- 1352909296592*&#45;&gt;1352909296592 -->\n<g id=\"edge5\" class=\"edge\">\n<title>1352909296592*&#45;&gt;1352909296592</title>\n<path fill=\"none\" stroke=\"black\" d=\"M292.41,-128.5C300.3,-128.5 309.5,-128.5 319.36,-128.5\"/>\n<polygon fill=\"black\" stroke=\"black\" points=\"319.22,-132 329.22,-128.5 319.22,-125 319.22,-132\"/>\n</g>\n</g>\n</svg>\n",
      "text/plain": [
       "<graphviz.graphs.Digraph at 0x13affb04c40>"
      ]
     },
     "execution_count": 145,
     "metadata": {},
     "output_type": "execute_result"
    }
   ],
   "source": [
    "draw_dot(o)"
   ]
  },
  {
   "cell_type": "code",
   "execution_count": 143,
   "metadata": {},
   "outputs": [],
   "source": [
    "o.grad=1\n",
    "o._backward()\n",
    "n._backward()\n",
    "x1w1x2w2._backward()\n",
    "b._backward()\n",
    "x2w2._backward()\n",
    "x1w1._backward()"
   ]
  },
  {
   "cell_type": "code",
   "execution_count": null,
   "metadata": {},
   "outputs": [],
   "source": []
  },
  {
   "cell_type": "code",
   "execution_count": 116,
   "metadata": {},
   "outputs": [],
   "source": [
    "o.grad=1.0\n",
    "n.grad=1-o.data**2\n",
    "x1w1x2w2.grad=n.grad\n",
    "b.grad=n.grad\n",
    "x1w1.grad=x1w1x2w2.grad\n",
    "x2w2.grad=x1w1x2w2.grad\n",
    "x1.grad=w1.data*x1w1.grad\n",
    "x2.grad=w2.data*x2w2.grad"
   ]
  },
  {
   "cell_type": "code",
   "execution_count": 93,
   "metadata": {},
   "outputs": [],
   "source": [
    "# o=tanh(n)\n",
    "#do/dn=1-tanh^2\n",
    "#do/dn=1-o^2\n"
   ]
  },
  {
   "cell_type": "code",
   "execution_count": null,
   "metadata": {},
   "outputs": [],
   "source": []
  }
 ],
 "metadata": {
  "kernelspec": {
   "display_name": "Python 3.9.0 64-bit",
   "language": "python",
   "name": "python3"
  },
  "language_info": {
   "codemirror_mode": {
    "name": "ipython",
    "version": 3
   },
   "file_extension": ".py",
   "mimetype": "text/x-python",
   "name": "python",
   "nbconvert_exporter": "python",
   "pygments_lexer": "ipython3",
   "version": "3.9.0"
  },
  "orig_nbformat": 4,
  "vscode": {
   "interpreter": {
    "hash": "81794d4967e6c3204c66dcd87b604927b115b27c00565d3d43f05ba2f3a2cb0d"
   }
  }
 },
 "nbformat": 4,
 "nbformat_minor": 2
}
