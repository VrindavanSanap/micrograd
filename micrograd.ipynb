{
 "cells": [
  {
   "cell_type": "code",
   "execution_count": 1,
   "metadata": {},
   "outputs": [],
   "source": [
    "import math\n",
    "import numpy as np\n",
    "import matplotlib.pyplot as plt\n",
    "%matplotlib inline"
   ]
  },
  {
   "cell_type": "code",
   "execution_count": 4,
   "metadata": {},
   "outputs": [
    {
     "data": {
      "text/plain": [
       "41.120000000000005"
      ]
     },
     "execution_count": 4,
     "metadata": {},
     "output_type": "execute_result"
    }
   ],
   "source": [
    "def f(x):\n",
    "    return 3*x**2 - 4*x+5\n",
    "\n",
    "f(4.2)"
   ]
  },
  {
   "cell_type": "code",
   "execution_count": 8,
   "metadata": {},
   "outputs": [
    {
     "data": {
      "text/plain": [
       "[<matplotlib.lines.Line2D at 0x23367f340a0>]"
      ]
     },
     "execution_count": 8,
     "metadata": {},
     "output_type": "execute_result"
    },
    {
     "data": {
      "image/png": "[encoded data removed]",
      "text/plain": [
       "<Figure size 432x288 with 1 Axes>"
      ]
     },
     "metadata": {
      "needs_background": "light"
     },
     "output_type": "display_data"
    }
   ],
   "source": [
    "xs = np.arange(-5, 5, 0.25)\n",
    "ys = f(xs)\n",
    "plt.plot(xs, ys)"
   ]
  },
  {
   "cell_type": "code",
   "execution_count": 6,
   "metadata": {},
   "outputs": [
    {
     "data": {
      "text/plain": [
       "0.0029999999995311555"
      ]
     },
     "execution_count": 6,
     "metadata": {},
     "output_type": "execute_result"
    }
   ],
   "source": [
    "# derivative at 2/3\n",
    "\n",
    "h = 0.001\n",
    "x = 2/3\n",
    "(f(x+h) - f(x))/h"
   ]
  },
  {
   "cell_type": "code",
   "execution_count": 9,
   "metadata": {},
   "outputs": [
    {
     "data": {
      "text/plain": [
       "[<matplotlib.lines.Line2D at 0x23369ffe820>]"
      ]
     },
     "execution_count": 9,
     "metadata": {},
     "output_type": "execute_result"
    },
    {
     "data": {
      "image/png": "[encoded data removed]",
      "text/plain": [
       "<Figure size 432x288 with 1 Axes>"
      ]
     },
     "metadata": {
      "needs_background": "light"
     },
     "output_type": "display_data"
    }
   ],
   "source": [
    "# derivative of f at all points\n",
    "\n",
    "def d():\n",
    "    ds = []\n",
    "    h = 0.001\n",
    "    for i in range(len(ys)):\n",
    "        ds.append((f(xs[i]+h) - f(xs[i]))/h)\n",
    "    return ds\n",
    "ds=d()\n",
    "plt.plot(xs, ds)"
   ]
  },
  {
   "cell_type": "code",
   "execution_count": 27,
   "metadata": {},
   "outputs": [
    {
     "name": "stdout",
     "output_type": "stream",
     "text": [
      "d1 4.0\n",
      "d2 3.997\n",
      "slope -3.0000000000001137\n"
     ]
    }
   ],
   "source": [
    "# More complex \n",
    "\n",
    "h = 0.001\n",
    "\n",
    "a = 2.0\n",
    "b = -3.0\n",
    "c = 10.0\n",
    "\n",
    "d1 = a * b + c\n",
    "a += h\n",
    "d2 = a * b + c\n",
    "\n",
    "print(f\"d1 {d1}\")\n",
    "print(f\"d2 {d2}\")\n",
    "print(f\"slope\", (d2 - d1)/h)"
   ]
  },
  {
   "cell_type": "code",
   "execution_count": 19,
   "metadata": {},
   "outputs": [],
   "source": [
    "class Value:\n",
    "\n",
    "    def __init__(self, data, _children=(), _op='', label=\"\"):\n",
    "        self.data = data\n",
    "        self.grad = 0.0\n",
    "        self._backward = lambda:None\n",
    "        self._prev = set(_children)\n",
    "        self._op = _op\n",
    "        self.label = label\n",
    "\n",
    "    def __repr__(self):\n",
    "        return (f\"Value(data) = {self.data}\")\n",
    "\n",
    "    def __add__(self, other):\n",
    "        out = Value(self.data+ other.data, (self,other), _op=\"+\")\n",
    "        \n",
    "        def _backward():\n",
    "            self.grad += 1.0*out.grad\n",
    "            other.grad += 1.0*out.grad\n",
    "        out._backward = _backward\n",
    "        \n",
    "        return out\n",
    "    # def __sub__(self,other):\n",
    "    #     out = Value(self.data-other.data,(self,other),_op=\"-\")\n",
    "    #     return out\n",
    "    # def __div__(self,other):\n",
    "    #     out = Value(self.data/other.data,(self,other),_op=\"/\")\n",
    "    #     return out\n",
    "\n",
    "    def __mul__(self, other):\n",
    "        out = Value(self.data * other.data,(self, other), _op=\"*\")\n",
    "        def _backward():\n",
    "            self.grad = other.data * out.grad\n",
    "            other.grad = self.data * out.grad\n",
    "        out._backward = _backward\n",
    "        return out\n",
    "\n",
    "    def tanh(self):\n",
    "        x = self.data\n",
    "        t = (math.exp(2*x)-1)/(math.exp(2*x) + 1)\n",
    "        out=Value(t, (self,), 'tanh')\n",
    "        def _backward():\n",
    "            self.grad = (1 - t**2) * out.grad\n",
    "        out._backward = _backward\n",
    "        return out\n",
    "\n",
    "    def backward(self):\n",
    "        \"https://bit.ly/sortTopological\"\n",
    "        # \"topological sort\" to let every neuron get its gradient \n",
    "        #set as a sum of all dependencies\n",
    "        topo = []\n",
    "        visited = set()\n",
    "        def build_topo(v):\n",
    "            if v not in visited:\n",
    "                visited.add(v)\n",
    "                for child in v._prev:\n",
    "                    build_topo(child)\n",
    "                    topo.append(v)\n",
    "        build_topo(self)\n",
    "        \n",
    "        self.grad = 1.0\n",
    "        for node in reversed(topo):\n",
    "            node._backward()\n"
   ]
  },
  {
   "cell_type": "code",
   "execution_count": 118,
   "metadata": {},
   "outputs": [
    {
     "data": {
      "text/plain": [
       "{Value(data)=10, Value(data)=10.5}"
      ]
     },
     "execution_count": 118,
     "metadata": {},
     "output_type": "execute_result"
    }
   ],
   "source": [
    "a = Value(2.1, label=\"a\")\n",
    "b = Value(5, label=\"b\")\n",
    "c = Value(10, label=\"c\")\n",
    "d = a * b + c\n",
    "d._prev"
   ]
  },
  {
   "cell_type": "code",
   "execution_count": null,
   "metadata": {},
   "outputs": [],
   "source": [
    "# download link for graphwiz on windows: https://graphviz.org/download\n",
    "import os\n",
    "os.environ[\"PATH\"] += os.pathsep + 'F:\\\\softwares\\\\Graphviz\\\\bin'"
   ]
  },
  {
   "cell_type": "code",
   "execution_count": 17,
   "metadata": {},
   "outputs": [],
   "source": [
    "from graphviz import Digraph\n",
    "\n",
    "def trace(root):\n",
    "  # builds a set of all nodes and edges in a graph\n",
    "  nodes, edges = set(), set()\n",
    "  def build(v):\n",
    "    if v not in nodes:\n",
    "      nodes.add(v)\n",
    "      for child in v._prev:\n",
    "        edges.add((child, v))\n",
    "        build(child)\n",
    "  build(root)\n",
    "  return nodes, edges\n",
    "\n",
    "def draw_dot(root):\n",
    "  dot = Digraph(format='svg', graph_attr={'rankdir': 'LR'}) # LR = left to right\n",
    "  \n",
    "  nodes, edges = trace(root)\n",
    "  for n in nodes:\n",
    "    uid = str(id(n))\n",
    "    # for any value in the graph, create a rectangular ('record') node for it\n",
    "    dot.node(name = uid, label = \"{ %s | data %.4f | grad %.4f }\" % (n.label, n.data, n.grad), shape='record')\n",
    "    if n._op:\n",
    "      # if this value is a result of some operation, create an op node for it\n",
    "      dot.node(name = uid + n._op, label = n._op)\n",
    "      # and connect this node to it\n",
    "      dot.edge(uid + n._op, uid)\n",
    "\n",
    "  for n1, n2 in edges:\n",
    "    # connect n1 to the op node of n2\n",
    "    dot.edge(str(id(n1)), str(id(n2)) + n2._op)\n",
    "\n",
    "  return dot\n"
   ]
  },
  {
   "cell_type": "code",
   "execution_count": 21,
   "metadata": {},
   "outputs": [
    {
     "data": {
      "text/plain": [
       "Value(data) = -8.0"
      ]
     },
     "execution_count": 21,
     "metadata": {},
     "output_type": "execute_result"
    }
   ],
   "source": [
    "a = Value(2.0, label='a')\n",
    "b = Value(-3.0, label='b')\n",
    "c = Value(10.0, label='c')\n",
    "e = a*b; e.label = 'e'\n",
    "d = e + c; d.label = 'd'\n",
    "f = Value(-2.0, label='f')\n",
    "L = d * f; L.label = 'L'\n",
    "L\n"
   ]
  },
  {
   "cell_type": "code",
   "execution_count": 22,
   "metadata": {},
   "outputs": [
    {
     "data": {
      "image/svg+xml": "<?xml version=\"1.0\" encoding=\"UTF-8\" standalone=\"no\"?>\n<!DOCTYPE svg PUBLIC \"-//W3C//DTD SVG 1.1//EN\"\n \"http://www.w3.org/Graphics/SVG/1.1/DTD/svg11.dtd\">\n<!-- Generated by graphviz version 7.0.2 (20221119.0110)\n -->\n<!-- Pages: 1 -->\n<svg width=\"1157pt\" height=\"156pt\"\n viewBox=\"0.00 0.00 1157.00 156.00\" xmlns=\"http://www.w3.org/2000/svg\" xmlns:xlink=\"http://www.w3.org/1999/xlink\">\n<g id=\"graph0\" class=\"graph\" transform=\"scale(1 1) rotate(0) translate(4 152)\">\n<polygon fill=\"white\" stroke=\"none\" points=\"-4,4 -4,-152 1153,-152 1153,4 -4,4\"/>\n<!-- 2419847605936 -->\n<g id=\"node1\" class=\"node\">\n<title>2419847605936</title>\n<polygon fill=\"none\" stroke=\"black\" points=\"3,-111.5 3,-147.5 190,-147.5 190,-111.5 3,-111.5\"/>\n<text text-anchor=\"middle\" x=\"14.5\" y=\"-125.8\" font-family=\"Times New Roman,serif\" font-size=\"14.00\">a</text>\n<polyline fill=\"none\" stroke=\"black\" points=\"26,-111.5 26,-147.5\"/>\n<text text-anchor=\"middle\" x=\"66.5\" y=\"-125.8\" font-family=\"Times New Roman,serif\" font-size=\"14.00\">data 2.0000</text>\n<polyline fill=\"none\" stroke=\"black\" points=\"107,-111.5 107,-147.5\"/>\n<text text-anchor=\"middle\" x=\"148.5\" y=\"-125.8\" font-family=\"Times New Roman,serif\" font-size=\"14.00\">grad 0.0000</text>\n</g>\n<!-- 2419847203664* -->\n<g id=\"node5\" class=\"node\">\n<title>2419847203664*</title>\n<ellipse fill=\"none\" stroke=\"black\" cx=\"256\" cy=\"-101.5\" rx=\"27\" ry=\"18\"/>\n<text text-anchor=\"middle\" x=\"256\" y=\"-97.8\" font-family=\"Times New Roman,serif\" font-size=\"14.00\">*</text>\n</g>\n<!-- 2419847605936&#45;&gt;2419847203664* -->\n<g id=\"edge9\" class=\"edge\">\n<title>2419847605936&#45;&gt;2419847203664*</title>\n<path fill=\"none\" stroke=\"black\" d=\"M189.57,-113.13C199.66,-111.34 209.45,-109.6 218.25,-108.03\"/>\n<polygon fill=\"black\" stroke=\"black\" points=\"218.85,-111.48 228.08,-106.29 217.62,-104.59 218.85,-111.48\"/>\n</g>\n<!-- 2419847317728 -->\n<g id=\"node2\" class=\"node\">\n<title>2419847317728</title>\n<polygon fill=\"none\" stroke=\"black\" points=\"640,-55.5 640,-91.5 828,-91.5 828,-55.5 640,-55.5\"/>\n<text text-anchor=\"middle\" x=\"652\" y=\"-69.8\" font-family=\"Times New Roman,serif\" font-size=\"14.00\">d</text>\n<polyline fill=\"none\" stroke=\"black\" points=\"664,-55.5 664,-91.5\"/>\n<text text-anchor=\"middle\" x=\"704.5\" y=\"-69.8\" font-family=\"Times New Roman,serif\" font-size=\"14.00\">data 4.0000</text>\n<polyline fill=\"none\" stroke=\"black\" points=\"745,-55.5 745,-91.5\"/>\n<text text-anchor=\"middle\" x=\"786.5\" y=\"-69.8\" font-family=\"Times New Roman,serif\" font-size=\"14.00\">grad 0.0000</text>\n</g>\n<!-- 2419847318928* -->\n<g id=\"node8\" class=\"node\">\n<title>2419847318928*</title>\n<ellipse fill=\"none\" stroke=\"black\" cx=\"892\" cy=\"-45.5\" rx=\"27\" ry=\"18\"/>\n<text text-anchor=\"middle\" x=\"892\" y=\"-41.8\" font-family=\"Times New Roman,serif\" font-size=\"14.00\">*</text>\n</g>\n<!-- 2419847317728&#45;&gt;2419847318928* -->\n<g id=\"edge8\" class=\"edge\">\n<title>2419847317728&#45;&gt;2419847318928*</title>\n<path fill=\"none\" stroke=\"black\" d=\"M828,-56.81C837.2,-55.16 846.12,-53.56 854.21,-52.1\"/>\n<polygon fill=\"black\" stroke=\"black\" points=\"854.69,-55.57 863.91,-50.36 853.45,-48.68 854.69,-55.57\"/>\n</g>\n<!-- 2419847317728+ -->\n<g id=\"node3\" class=\"node\">\n<title>2419847317728+</title>\n<ellipse fill=\"none\" stroke=\"black\" cx=\"576\" cy=\"-73.5\" rx=\"27\" ry=\"18\"/>\n<text text-anchor=\"middle\" x=\"576\" y=\"-69.8\" font-family=\"Times New Roman,serif\" font-size=\"14.00\">+</text>\n</g>\n<!-- 2419847317728+&#45;&gt;2419847317728 -->\n<g id=\"edge1\" class=\"edge\">\n<title>2419847317728+&#45;&gt;2419847317728</title>\n<path fill=\"none\" stroke=\"black\" d=\"M603.46,-73.5C610.94,-73.5 619.56,-73.5 628.73,-73.5\"/>\n<polygon fill=\"black\" stroke=\"black\" points=\"628.64,-77 638.64,-73.5 628.64,-70 628.64,-77\"/>\n</g>\n<!-- 2419847203664 -->\n<g id=\"node4\" class=\"node\">\n<title>2419847203664</title>\n<polygon fill=\"none\" stroke=\"black\" points=\"320,-83.5 320,-119.5 512,-119.5 512,-83.5 320,-83.5\"/>\n<text text-anchor=\"middle\" x=\"331.5\" y=\"-97.8\" font-family=\"Times New Roman,serif\" font-size=\"14.00\">e</text>\n<polyline fill=\"none\" stroke=\"black\" points=\"343,-83.5 343,-119.5\"/>\n<text text-anchor=\"middle\" x=\"386\" y=\"-97.8\" font-family=\"Times New Roman,serif\" font-size=\"14.00\">data &#45;6.0000</text>\n<polyline fill=\"none\" stroke=\"black\" points=\"429,-83.5 429,-119.5\"/>\n<text text-anchor=\"middle\" x=\"470.5\" y=\"-97.8\" font-family=\"Times New Roman,serif\" font-size=\"14.00\">grad 0.0000</text>\n</g>\n<!-- 2419847203664&#45;&gt;2419847317728+ -->\n<g id=\"edge5\" class=\"edge\">\n<title>2419847203664&#45;&gt;2419847317728+</title>\n<path fill=\"none\" stroke=\"black\" d=\"M511.65,-84.73C521.01,-83.07 530.06,-81.46 538.26,-80.01\"/>\n<polygon fill=\"black\" stroke=\"black\" points=\"538.86,-83.46 548.1,-78.27 537.64,-76.57 538.86,-83.46\"/>\n</g>\n<!-- 2419847203664*&#45;&gt;2419847203664 -->\n<g id=\"edge2\" class=\"edge\">\n<title>2419847203664*&#45;&gt;2419847203664</title>\n<path fill=\"none\" stroke=\"black\" d=\"M283.45,-101.5C290.94,-101.5 299.59,-101.5 308.8,-101.5\"/>\n<polygon fill=\"black\" stroke=\"black\" points=\"308.76,-105 318.76,-101.5 308.76,-98 308.76,-105\"/>\n</g>\n<!-- 2419797963152 -->\n<g id=\"node6\" class=\"node\">\n<title>2419797963152</title>\n<polygon fill=\"none\" stroke=\"black\" points=\"639,-0.5 639,-36.5 829,-36.5 829,-0.5 639,-0.5\"/>\n<text text-anchor=\"middle\" x=\"649.5\" y=\"-14.8\" font-family=\"Times New Roman,serif\" font-size=\"14.00\">f</text>\n<polyline fill=\"none\" stroke=\"black\" points=\"660,-0.5 660,-36.5\"/>\n<text text-anchor=\"middle\" x=\"703\" y=\"-14.8\" font-family=\"Times New Roman,serif\" font-size=\"14.00\">data &#45;2.0000</text>\n<polyline fill=\"none\" stroke=\"black\" points=\"746,-0.5 746,-36.5\"/>\n<text text-anchor=\"middle\" x=\"787.5\" y=\"-14.8\" font-family=\"Times New Roman,serif\" font-size=\"14.00\">grad 0.0000</text>\n</g>\n<!-- 2419797963152&#45;&gt;2419847318928* -->\n<g id=\"edge7\" class=\"edge\">\n<title>2419797963152&#45;&gt;2419847318928*</title>\n<path fill=\"none\" stroke=\"black\" d=\"M828.9,-34.75C837.81,-36.29 846.43,-37.79 854.28,-39.14\"/>\n<polygon fill=\"black\" stroke=\"black\" points=\"853.57,-42.57 864.02,-40.83 854.76,-35.68 853.57,-42.57\"/>\n</g>\n<!-- 2419847318928 -->\n<g id=\"node7\" class=\"node\">\n<title>2419847318928</title>\n<polygon fill=\"none\" stroke=\"black\" points=\"955,-27.5 955,-63.5 1149,-63.5 1149,-27.5 955,-27.5\"/>\n<text text-anchor=\"middle\" x=\"967.5\" y=\"-41.8\" font-family=\"Times New Roman,serif\" font-size=\"14.00\">L</text>\n<polyline fill=\"none\" stroke=\"black\" points=\"980,-27.5 980,-63.5\"/>\n<text text-anchor=\"middle\" x=\"1023\" y=\"-41.8\" font-family=\"Times New Roman,serif\" font-size=\"14.00\">data &#45;8.0000</text>\n<polyline fill=\"none\" stroke=\"black\" points=\"1066,-27.5 1066,-63.5\"/>\n<text text-anchor=\"middle\" x=\"1107.5\" y=\"-41.8\" font-family=\"Times New Roman,serif\" font-size=\"14.00\">grad 0.0000</text>\n</g>\n<!-- 2419847318928*&#45;&gt;2419847318928 -->\n<g id=\"edge3\" class=\"edge\">\n<title>2419847318928*&#45;&gt;2419847318928</title>\n<path fill=\"none\" stroke=\"black\" d=\"M919.45,-45.5C926.67,-45.5 934.97,-45.5 943.82,-45.5\"/>\n<polygon fill=\"black\" stroke=\"black\" points=\"943.75,-49 953.75,-45.5 943.75,-42 943.75,-49\"/>\n</g>\n<!-- 2419847606176 -->\n<g id=\"node9\" class=\"node\">\n<title>2419847606176</title>\n<polygon fill=\"none\" stroke=\"black\" points=\"0,-56.5 0,-92.5 193,-92.5 193,-56.5 0,-56.5\"/>\n<text text-anchor=\"middle\" x=\"12\" y=\"-70.8\" font-family=\"Times New Roman,serif\" font-size=\"14.00\">b</text>\n<polyline fill=\"none\" stroke=\"black\" points=\"24,-56.5 24,-92.5\"/>\n<text text-anchor=\"middle\" x=\"67\" y=\"-70.8\" font-family=\"Times New Roman,serif\" font-size=\"14.00\">data &#45;3.0000</text>\n<polyline fill=\"none\" stroke=\"black\" points=\"110,-56.5 110,-92.5\"/>\n<text text-anchor=\"middle\" x=\"151.5\" y=\"-70.8\" font-family=\"Times New Roman,serif\" font-size=\"14.00\">grad 0.0000</text>\n</g>\n<!-- 2419847606176&#45;&gt;2419847203664* -->\n<g id=\"edge4\" class=\"edge\">\n<title>2419847606176&#45;&gt;2419847203664*</title>\n<path fill=\"none\" stroke=\"black\" d=\"M192.75,-90.83C201.7,-92.36 210.35,-93.85 218.21,-95.19\"/>\n<polygon fill=\"black\" stroke=\"black\" points=\"217.54,-98.63 227.98,-96.87 218.72,-91.73 217.54,-98.63\"/>\n</g>\n<!-- 2419847604688 -->\n<g id=\"node10\" class=\"node\">\n<title>2419847604688</title>\n<polygon fill=\"none\" stroke=\"black\" points=\"319,-28.5 319,-64.5 513,-64.5 513,-28.5 319,-28.5\"/>\n<text text-anchor=\"middle\" x=\"330.5\" y=\"-42.8\" font-family=\"Times New Roman,serif\" font-size=\"14.00\">c</text>\n<polyline fill=\"none\" stroke=\"black\" points=\"342,-28.5 342,-64.5\"/>\n<text text-anchor=\"middle\" x=\"386\" y=\"-42.8\" font-family=\"Times New Roman,serif\" font-size=\"14.00\">data 10.0000</text>\n<polyline fill=\"none\" stroke=\"black\" points=\"430,-28.5 430,-64.5\"/>\n<text text-anchor=\"middle\" x=\"471.5\" y=\"-42.8\" font-family=\"Times New Roman,serif\" font-size=\"14.00\">grad 0.0000</text>\n</g>\n<!-- 2419847604688&#45;&gt;2419847317728+ -->\n<g id=\"edge6\" class=\"edge\">\n<title>2419847604688&#45;&gt;2419847317728+</title>\n<path fill=\"none\" stroke=\"black\" d=\"M512.55,-62.83C521.53,-64.36 530.21,-65.85 538.1,-67.19\"/>\n<polygon fill=\"black\" stroke=\"black\" points=\"537.46,-70.63 547.9,-68.87 538.64,-63.73 537.46,-70.63\"/>\n</g>\n</g>\n</svg>\n",
      "text/plain": [
       "<graphviz.graphs.Digraph at 0x23369fce760>"
      ]
     },
     "execution_count": 22,
     "metadata": {},
     "output_type": "execute_result"
    }
   ],
   "source": [
    "draw_dot(L)"
   ]
  },
  {
   "cell_type": "code",
   "execution_count": 24,
   "metadata": {},
   "outputs": [],
   "source": [
    "#inputs\n",
    "x1 = Value(2.0, label='x1')\n",
    "x2 = Value(0.0, label='x2')\n",
    "\n",
    "#weights\n",
    "w1 = Value(-3.0, label='w1')\n",
    "w2 = Value(1.0, label='w1')\n",
    "\n",
    "#bias of the neuron this specific number for numbers comming out nicely\n",
    "b = Value(6.8813735870195432, label='b')\n",
    "\n",
    "x1w1 = x1*w1 ; x1w1.label = 'x1w1'\n",
    "x2w2 = x2*w2 ; x2w2.label = 'x2w2'\n",
    "\n",
    "x1w1x2w2 = x1w1 + x2w2 ; x1w1x2w2.label = \"x1w1+x2w2\"\n",
    "\n",
    "n = x1w1x2w2+b ; n.label = 'n'\n",
    "o = n.tanh() ; o.label = 'o'\n"
   ]
  },
  {
   "cell_type": "code",
   "execution_count": 25,
   "metadata": {},
   "outputs": [
    {
     "data": {
      "image/svg+xml": "<?xml version=\"1.0\" encoding=\"UTF-8\" standalone=\"no\"?>\n<!DOCTYPE svg PUBLIC \"-//W3C//DTD SVG 1.1//EN\"\n \"http://www.w3.org/Graphics/SVG/1.1/DTD/svg11.dtd\">\n<!-- Generated by graphviz version 7.0.2 (20221119.0110)\n -->\n<!-- Pages: 1 -->\n<svg width=\"1559pt\" height=\"210pt\"\n viewBox=\"0.00 0.00 1559.00 210.00\" xmlns=\"http://www.w3.org/2000/svg\" xmlns:xlink=\"http://www.w3.org/1999/xlink\">\n<g id=\"graph0\" class=\"graph\" transform=\"scale(1 1) rotate(0) translate(4 206)\">\n<polygon fill=\"white\" stroke=\"none\" points=\"-4,4 -4,-206 1555,-206 1555,4 -4,4\"/>\n<!-- 2419848878112 -->\n<g id=\"node1\" class=\"node\">\n<title>2419848878112</title>\n<polygon fill=\"none\" stroke=\"black\" points=\"703,-137.5 703,-173.5 891,-173.5 891,-137.5 703,-137.5\"/>\n<text text-anchor=\"middle\" x=\"715\" y=\"-151.8\" font-family=\"Times New Roman,serif\" font-size=\"14.00\">b</text>\n<polyline fill=\"none\" stroke=\"black\" points=\"727,-137.5 727,-173.5\"/>\n<text text-anchor=\"middle\" x=\"767.5\" y=\"-151.8\" font-family=\"Times New Roman,serif\" font-size=\"14.00\">data 6.8814</text>\n<polyline fill=\"none\" stroke=\"black\" points=\"808,-137.5 808,-173.5\"/>\n<text text-anchor=\"middle\" x=\"849.5\" y=\"-151.8\" font-family=\"Times New Roman,serif\" font-size=\"14.00\">grad 0.0000</text>\n</g>\n<!-- 2419847257440+ -->\n<g id=\"node10\" class=\"node\">\n<title>2419847257440+</title>\n<ellipse fill=\"none\" stroke=\"black\" cx=\"987\" cy=\"-127.5\" rx=\"27\" ry=\"18\"/>\n<text text-anchor=\"middle\" x=\"987\" y=\"-123.8\" font-family=\"Times New Roman,serif\" font-size=\"14.00\">+</text>\n</g>\n<!-- 2419848878112&#45;&gt;2419847257440+ -->\n<g id=\"edge11\" class=\"edge\">\n<title>2419848878112&#45;&gt;2419847257440+</title>\n<path fill=\"none\" stroke=\"black\" d=\"M890.9,-141.66C911.64,-138.57 932.46,-135.47 949.31,-132.97\"/>\n<polygon fill=\"black\" stroke=\"black\" points=\"949.41,-136.49 958.79,-131.55 948.38,-129.56 949.41,-136.49\"/>\n</g>\n<!-- 2419847256624 -->\n<g id=\"node2\" class=\"node\">\n<title>2419847256624</title>\n<polygon fill=\"none\" stroke=\"black\" points=\"670,-82.5 670,-118.5 924,-118.5 924,-82.5 670,-82.5\"/>\n<text text-anchor=\"middle\" x=\"712.5\" y=\"-96.8\" font-family=\"Times New Roman,serif\" font-size=\"14.00\">x1w1+x2w2</text>\n<polyline fill=\"none\" stroke=\"black\" points=\"755,-82.5 755,-118.5\"/>\n<text text-anchor=\"middle\" x=\"798\" y=\"-96.8\" font-family=\"Times New Roman,serif\" font-size=\"14.00\">data &#45;6.0000</text>\n<polyline fill=\"none\" stroke=\"black\" points=\"841,-82.5 841,-118.5\"/>\n<text text-anchor=\"middle\" x=\"882.5\" y=\"-96.8\" font-family=\"Times New Roman,serif\" font-size=\"14.00\">grad 0.0000</text>\n</g>\n<!-- 2419847256624&#45;&gt;2419847257440+ -->\n<g id=\"edge14\" class=\"edge\">\n<title>2419847256624&#45;&gt;2419847257440+</title>\n<path fill=\"none\" stroke=\"black\" d=\"M923.14,-118.47C932.29,-119.79 941.01,-121.04 948.87,-122.17\"/>\n<polygon fill=\"black\" stroke=\"black\" points=\"948.2,-125.61 958.59,-123.56 949.19,-118.68 948.2,-125.61\"/>\n</g>\n<!-- 2419847256624+ -->\n<g id=\"node3\" class=\"node\">\n<title>2419847256624+</title>\n<ellipse fill=\"none\" stroke=\"black\" cx=\"607\" cy=\"-100.5\" rx=\"27\" ry=\"18\"/>\n<text text-anchor=\"middle\" x=\"607\" y=\"-96.8\" font-family=\"Times New Roman,serif\" font-size=\"14.00\">+</text>\n</g>\n<!-- 2419847256624+&#45;&gt;2419847256624 -->\n<g id=\"edge1\" class=\"edge\">\n<title>2419847256624+&#45;&gt;2419847256624</title>\n<path fill=\"none\" stroke=\"black\" d=\"M634.14,-100.5C641.39,-100.5 649.78,-100.5 658.86,-100.5\"/>\n<polygon fill=\"black\" stroke=\"black\" points=\"658.74,-104 668.74,-100.5 658.74,-97 658.74,-104\"/>\n</g>\n<!-- 2419847317584 -->\n<g id=\"node4\" class=\"node\">\n<title>2419847317584</title>\n<polygon fill=\"none\" stroke=\"black\" points=\"1363,-109.5 1363,-145.5 1551,-145.5 1551,-109.5 1363,-109.5\"/>\n<text text-anchor=\"middle\" x=\"1375\" y=\"-123.8\" font-family=\"Times New Roman,serif\" font-size=\"14.00\">o</text>\n<polyline fill=\"none\" stroke=\"black\" points=\"1387,-109.5 1387,-145.5\"/>\n<text text-anchor=\"middle\" x=\"1427.5\" y=\"-123.8\" font-family=\"Times New Roman,serif\" font-size=\"14.00\">data 0.7071</text>\n<polyline fill=\"none\" stroke=\"black\" points=\"1468,-109.5 1468,-145.5\"/>\n<text text-anchor=\"middle\" x=\"1509.5\" y=\"-123.8\" font-family=\"Times New Roman,serif\" font-size=\"14.00\">grad 0.0000</text>\n</g>\n<!-- 2419847317584tanh -->\n<g id=\"node5\" class=\"node\">\n<title>2419847317584tanh</title>\n<ellipse fill=\"none\" stroke=\"black\" cx=\"1300\" cy=\"-127.5\" rx=\"27\" ry=\"18\"/>\n<text text-anchor=\"middle\" x=\"1300\" y=\"-123.8\" font-family=\"Times New Roman,serif\" font-size=\"14.00\">tanh</text>\n</g>\n<!-- 2419847317584tanh&#45;&gt;2419847317584 -->\n<g id=\"edge2\" class=\"edge\">\n<title>2419847317584tanh&#45;&gt;2419847317584</title>\n<path fill=\"none\" stroke=\"black\" d=\"M1327.29,-127.5C1334.52,-127.5 1342.82,-127.5 1351.66,-127.5\"/>\n<polygon fill=\"black\" stroke=\"black\" points=\"1351.57,-131 1361.57,-127.5 1351.57,-124 1351.57,-131\"/>\n</g>\n<!-- 2419848877728 -->\n<g id=\"node6\" class=\"node\">\n<title>2419848877728</title>\n<polygon fill=\"none\" stroke=\"black\" points=\"4,-55.5 4,-91.5 198,-91.5 198,-55.5 4,-55.5\"/>\n<text text-anchor=\"middle\" x=\"19\" y=\"-69.8\" font-family=\"Times New Roman,serif\" font-size=\"14.00\">x2</text>\n<polyline fill=\"none\" stroke=\"black\" points=\"34,-55.5 34,-91.5\"/>\n<text text-anchor=\"middle\" x=\"74.5\" y=\"-69.8\" font-family=\"Times New Roman,serif\" font-size=\"14.00\">data 0.0000</text>\n<polyline fill=\"none\" stroke=\"black\" points=\"115,-55.5 115,-91.5\"/>\n<text text-anchor=\"middle\" x=\"156.5\" y=\"-69.8\" font-family=\"Times New Roman,serif\" font-size=\"14.00\">grad 0.0000</text>\n</g>\n<!-- 2419847254992* -->\n<g id=\"node15\" class=\"node\">\n<title>2419847254992*</title>\n<ellipse fill=\"none\" stroke=\"black\" cx=\"265\" cy=\"-73.5\" rx=\"27\" ry=\"18\"/>\n<text text-anchor=\"middle\" x=\"265\" y=\"-69.8\" font-family=\"Times New Roman,serif\" font-size=\"14.00\">*</text>\n</g>\n<!-- 2419848877728&#45;&gt;2419847254992* -->\n<g id=\"edge12\" class=\"edge\">\n<title>2419848877728&#45;&gt;2419847254992*</title>\n<path fill=\"none\" stroke=\"black\" d=\"M197.64,-73.5C207.72,-73.5 217.49,-73.5 226.29,-73.5\"/>\n<polygon fill=\"black\" stroke=\"black\" points=\"226.11,-77 236.11,-73.5 226.11,-70 226.11,-77\"/>\n</g>\n<!-- 2419847254272 -->\n<g id=\"node7\" class=\"node\">\n<title>2419847254272</title>\n<polygon fill=\"none\" stroke=\"black\" points=\"328,-110.5 328,-146.5 544,-146.5 544,-110.5 328,-110.5\"/>\n<text text-anchor=\"middle\" x=\"351.5\" y=\"-124.8\" font-family=\"Times New Roman,serif\" font-size=\"14.00\">x1w1</text>\n<polyline fill=\"none\" stroke=\"black\" points=\"375,-110.5 375,-146.5\"/>\n<text text-anchor=\"middle\" x=\"418\" y=\"-124.8\" font-family=\"Times New Roman,serif\" font-size=\"14.00\">data &#45;6.0000</text>\n<polyline fill=\"none\" stroke=\"black\" points=\"461,-110.5 461,-146.5\"/>\n<text text-anchor=\"middle\" x=\"502.5\" y=\"-124.8\" font-family=\"Times New Roman,serif\" font-size=\"14.00\">grad 0.0000</text>\n</g>\n<!-- 2419847254272&#45;&gt;2419847256624+ -->\n<g id=\"edge13\" class=\"edge\">\n<title>2419847254272&#45;&gt;2419847256624+</title>\n<path fill=\"none\" stroke=\"black\" d=\"M543.55,-110.85C552.57,-109.35 561.22,-107.92 569.07,-106.62\"/>\n<polygon fill=\"black\" stroke=\"black\" points=\"569.51,-110.09 578.8,-105.01 568.36,-103.19 569.51,-110.09\"/>\n</g>\n<!-- 2419847254272* -->\n<g id=\"node8\" class=\"node\">\n<title>2419847254272*</title>\n<ellipse fill=\"none\" stroke=\"black\" cx=\"265\" cy=\"-128.5\" rx=\"27\" ry=\"18\"/>\n<text text-anchor=\"middle\" x=\"265\" y=\"-124.8\" font-family=\"Times New Roman,serif\" font-size=\"14.00\">*</text>\n</g>\n<!-- 2419847254272*&#45;&gt;2419847254272 -->\n<g id=\"edge3\" class=\"edge\">\n<title>2419847254272*&#45;&gt;2419847254272</title>\n<path fill=\"none\" stroke=\"black\" d=\"M292.41,-128.5C299.59,-128.5 307.85,-128.5 316.71,-128.5\"/>\n<polygon fill=\"black\" stroke=\"black\" points=\"316.7,-132 326.7,-128.5 316.7,-125 316.7,-132\"/>\n</g>\n<!-- 2419847257440 -->\n<g id=\"node9\" class=\"node\">\n<title>2419847257440</title>\n<polygon fill=\"none\" stroke=\"black\" points=\"1050,-109.5 1050,-145.5 1237,-145.5 1237,-109.5 1050,-109.5\"/>\n<text text-anchor=\"middle\" x=\"1061.5\" y=\"-123.8\" font-family=\"Times New Roman,serif\" font-size=\"14.00\">n</text>\n<polyline fill=\"none\" stroke=\"black\" points=\"1073,-109.5 1073,-145.5\"/>\n<text text-anchor=\"middle\" x=\"1113.5\" y=\"-123.8\" font-family=\"Times New Roman,serif\" font-size=\"14.00\">data 0.8814</text>\n<polyline fill=\"none\" stroke=\"black\" points=\"1154,-109.5 1154,-145.5\"/>\n<text text-anchor=\"middle\" x=\"1195.5\" y=\"-123.8\" font-family=\"Times New Roman,serif\" font-size=\"14.00\">grad 0.0000</text>\n</g>\n<!-- 2419847257440&#45;&gt;2419847317584tanh -->\n<g id=\"edge10\" class=\"edge\">\n<title>2419847257440&#45;&gt;2419847317584tanh</title>\n<path fill=\"none\" stroke=\"black\" d=\"M1236.6,-127.5C1245.26,-127.5 1253.65,-127.5 1261.33,-127.5\"/>\n<polygon fill=\"black\" stroke=\"black\" points=\"1261.23,-131 1271.23,-127.5 1261.23,-124 1261.23,-131\"/>\n</g>\n<!-- 2419847257440+&#45;&gt;2419847257440 -->\n<g id=\"edge4\" class=\"edge\">\n<title>2419847257440+&#45;&gt;2419847257440</title>\n<path fill=\"none\" stroke=\"black\" d=\"M1014.21,-127.5C1021.47,-127.5 1029.83,-127.5 1038.71,-127.5\"/>\n<polygon fill=\"black\" stroke=\"black\" points=\"1038.7,-131 1048.7,-127.5 1038.7,-124 1038.7,-131\"/>\n</g>\n<!-- 2419848879984 -->\n<g id=\"node11\" class=\"node\">\n<title>2419848879984</title>\n<polygon fill=\"none\" stroke=\"black\" points=\"0,-165.5 0,-201.5 202,-201.5 202,-165.5 0,-165.5\"/>\n<text text-anchor=\"middle\" x=\"16.5\" y=\"-179.8\" font-family=\"Times New Roman,serif\" font-size=\"14.00\">w1</text>\n<polyline fill=\"none\" stroke=\"black\" points=\"33,-165.5 33,-201.5\"/>\n<text text-anchor=\"middle\" x=\"76\" y=\"-179.8\" font-family=\"Times New Roman,serif\" font-size=\"14.00\">data &#45;3.0000</text>\n<polyline fill=\"none\" stroke=\"black\" points=\"119,-165.5 119,-201.5\"/>\n<text text-anchor=\"middle\" x=\"160.5\" y=\"-179.8\" font-family=\"Times New Roman,serif\" font-size=\"14.00\">grad 0.0000</text>\n</g>\n<!-- 2419848879984&#45;&gt;2419847254272* -->\n<g id=\"edge9\" class=\"edge\">\n<title>2419848879984&#45;&gt;2419847254272*</title>\n<path fill=\"none\" stroke=\"black\" d=\"M173.99,-165.56C183.48,-162.75 193.03,-159.71 202,-156.5 212.1,-152.88 222.83,-148.31 232.49,-143.91\"/>\n<polygon fill=\"black\" stroke=\"black\" points=\"233.88,-147.12 241.46,-139.72 230.92,-140.78 233.88,-147.12\"/>\n</g>\n<!-- 2419848877440 -->\n<g id=\"node12\" class=\"node\">\n<title>2419848877440</title>\n<polygon fill=\"none\" stroke=\"black\" points=\"2.5,-0.5 2.5,-36.5 199.5,-36.5 199.5,-0.5 2.5,-0.5\"/>\n<text text-anchor=\"middle\" x=\"19\" y=\"-14.8\" font-family=\"Times New Roman,serif\" font-size=\"14.00\">w1</text>\n<polyline fill=\"none\" stroke=\"black\" points=\"35.5,-0.5 35.5,-36.5\"/>\n<text text-anchor=\"middle\" x=\"76\" y=\"-14.8\" font-family=\"Times New Roman,serif\" font-size=\"14.00\">data 1.0000</text>\n<polyline fill=\"none\" stroke=\"black\" points=\"116.5,-0.5 116.5,-36.5\"/>\n<text text-anchor=\"middle\" x=\"158\" y=\"-14.8\" font-family=\"Times New Roman,serif\" font-size=\"14.00\">grad 0.0000</text>\n</g>\n<!-- 2419848877440&#45;&gt;2419847254992* -->\n<g id=\"edge7\" class=\"edge\">\n<title>2419848877440&#45;&gt;2419847254992*</title>\n<path fill=\"none\" stroke=\"black\" d=\"M170.98,-36.47C181.45,-39.58 192.06,-42.96 202,-46.5 211.97,-50.05 222.6,-54.44 232.19,-58.65\"/>\n<polygon fill=\"black\" stroke=\"black\" points=\"230.55,-61.75 241.11,-62.64 233.41,-55.36 230.55,-61.75\"/>\n</g>\n<!-- 2419848879024 -->\n<g id=\"node13\" class=\"node\">\n<title>2419848879024</title>\n<polygon fill=\"none\" stroke=\"black\" points=\"4,-110.5 4,-146.5 198,-146.5 198,-110.5 4,-110.5\"/>\n<text text-anchor=\"middle\" x=\"19\" y=\"-124.8\" font-family=\"Times New Roman,serif\" font-size=\"14.00\">x1</text>\n<polyline fill=\"none\" stroke=\"black\" points=\"34,-110.5 34,-146.5\"/>\n<text text-anchor=\"middle\" x=\"74.5\" y=\"-124.8\" font-family=\"Times New Roman,serif\" font-size=\"14.00\">data 2.0000</text>\n<polyline fill=\"none\" stroke=\"black\" points=\"115,-110.5 115,-146.5\"/>\n<text text-anchor=\"middle\" x=\"156.5\" y=\"-124.8\" font-family=\"Times New Roman,serif\" font-size=\"14.00\">grad 0.0000</text>\n</g>\n<!-- 2419848879024&#45;&gt;2419847254272* -->\n<g id=\"edge8\" class=\"edge\">\n<title>2419848879024&#45;&gt;2419847254272*</title>\n<path fill=\"none\" stroke=\"black\" d=\"M197.64,-128.5C207.72,-128.5 217.49,-128.5 226.29,-128.5\"/>\n<polygon fill=\"black\" stroke=\"black\" points=\"226.11,-132 236.11,-128.5 226.11,-125 226.11,-132\"/>\n</g>\n<!-- 2419847254992 -->\n<g id=\"node14\" class=\"node\">\n<title>2419847254992</title>\n<polygon fill=\"none\" stroke=\"black\" points=\"330.5,-55.5 330.5,-91.5 541.5,-91.5 541.5,-55.5 330.5,-55.5\"/>\n<text text-anchor=\"middle\" x=\"354\" y=\"-69.8\" font-family=\"Times New Roman,serif\" font-size=\"14.00\">x2w2</text>\n<polyline fill=\"none\" stroke=\"black\" points=\"377.5,-55.5 377.5,-91.5\"/>\n<text text-anchor=\"middle\" x=\"418\" y=\"-69.8\" font-family=\"Times New Roman,serif\" font-size=\"14.00\">data 0.0000</text>\n<polyline fill=\"none\" stroke=\"black\" points=\"458.5,-55.5 458.5,-91.5\"/>\n<text text-anchor=\"middle\" x=\"500\" y=\"-69.8\" font-family=\"Times New Roman,serif\" font-size=\"14.00\">grad 0.0000</text>\n</g>\n<!-- 2419847254992&#45;&gt;2419847256624+ -->\n<g id=\"edge6\" class=\"edge\">\n<title>2419847254992&#45;&gt;2419847256624+</title>\n<path fill=\"none\" stroke=\"black\" d=\"M541.14,-90.14C551.14,-91.73 560.74,-93.27 569.36,-94.65\"/>\n<polygon fill=\"black\" stroke=\"black\" points=\"568.51,-98.06 578.94,-96.18 569.62,-91.14 568.51,-98.06\"/>\n</g>\n<!-- 2419847254992*&#45;&gt;2419847254992 -->\n<g id=\"edge5\" class=\"edge\">\n<title>2419847254992*&#45;&gt;2419847254992</title>\n<path fill=\"none\" stroke=\"black\" d=\"M292.41,-73.5C300.3,-73.5 309.5,-73.5 319.36,-73.5\"/>\n<polygon fill=\"black\" stroke=\"black\" points=\"319.22,-77 329.22,-73.5 319.22,-70 319.22,-77\"/>\n</g>\n</g>\n</svg>\n",
      "text/plain": [
       "<graphviz.graphs.Digraph at 0x233674642e0>"
      ]
     },
     "execution_count": 25,
     "metadata": {},
     "output_type": "execute_result"
    }
   ],
   "source": [
    "draw_dot(o)"
   ]
  },
  {
   "cell_type": "code",
   "execution_count": 26,
   "metadata": {},
   "outputs": [
    {
     "data": {
      "image/svg+xml": "<?xml version=\"1.0\" encoding=\"UTF-8\" standalone=\"no\"?>\n<!DOCTYPE svg PUBLIC \"-//W3C//DTD SVG 1.1//EN\"\n \"http://www.w3.org/Graphics/SVG/1.1/DTD/svg11.dtd\">\n<!-- Generated by graphviz version 7.0.2 (20221119.0110)\n -->\n<!-- Pages: 1 -->\n<svg width=\"835pt\" height=\"100pt\"\n viewBox=\"0.00 0.00 835.00 100.00\" xmlns=\"http://www.w3.org/2000/svg\" xmlns:xlink=\"http://www.w3.org/1999/xlink\">\n<g id=\"graph0\" class=\"graph\" transform=\"scale(1 1) rotate(0) translate(4 96)\">\n<polygon fill=\"white\" stroke=\"none\" points=\"-4,4 -4,-96 831,-96 831,4 -4,4\"/>\n<!-- 2419848879840 -->\n<g id=\"node1\" class=\"node\">\n<title>2419848879840</title>\n<polygon fill=\"none\" stroke=\"black\" points=\"0,-55.5 0,-91.5 192,-91.5 192,-55.5 0,-55.5\"/>\n<text text-anchor=\"middle\" x=\"12\" y=\"-69.8\" font-family=\"Times New Roman,serif\" font-size=\"14.00\">b</text>\n<polyline fill=\"none\" stroke=\"black\" points=\"24,-55.5 24,-91.5\"/>\n<text text-anchor=\"middle\" x=\"64.5\" y=\"-69.8\" font-family=\"Times New Roman,serif\" font-size=\"14.00\">data 3.0000</text>\n<polyline fill=\"none\" stroke=\"black\" points=\"105,-55.5 105,-91.5\"/>\n<text text-anchor=\"middle\" x=\"148.5\" y=\"-69.8\" font-family=\"Times New Roman,serif\" font-size=\"14.00\">grad &#45;2.0000</text>\n</g>\n<!-- 2419847318304* -->\n<g id=\"node5\" class=\"node\">\n<title>2419847318304*</title>\n<ellipse fill=\"none\" stroke=\"black\" cx=\"255\" cy=\"-73.5\" rx=\"27\" ry=\"18\"/>\n<text text-anchor=\"middle\" x=\"255\" y=\"-69.8\" font-family=\"Times New Roman,serif\" font-size=\"14.00\">*</text>\n</g>\n<!-- 2419848879840&#45;&gt;2419847318304* -->\n<g id=\"edge4\" class=\"edge\">\n<title>2419848879840&#45;&gt;2419847318304*</title>\n<path fill=\"none\" stroke=\"black\" d=\"M191.95,-73.5C200.51,-73.5 208.8,-73.5 216.38,-73.5\"/>\n<polygon fill=\"black\" stroke=\"black\" points=\"216.14,-77 226.14,-73.5 216.14,-70 216.14,-77\"/>\n</g>\n<!-- 2419847315760+ -->\n<g id=\"node7\" class=\"node\">\n<title>2419847315760+</title>\n<ellipse fill=\"none\" stroke=\"black\" cx=\"255\" cy=\"-18.5\" rx=\"27\" ry=\"18\"/>\n<text text-anchor=\"middle\" x=\"255\" y=\"-14.8\" font-family=\"Times New Roman,serif\" font-size=\"14.00\">+</text>\n</g>\n<!-- 2419848879840&#45;&gt;2419847315760+ -->\n<g id=\"edge8\" class=\"edge\">\n<title>2419848879840&#45;&gt;2419847315760+</title>\n<path fill=\"none\" stroke=\"black\" d=\"M164.86,-55.54C174.05,-52.72 183.3,-49.68 192,-46.5 201.99,-42.85 212.63,-38.3 222.22,-33.93\"/>\n<polygon fill=\"black\" stroke=\"black\" points=\"223.55,-37.17 231.15,-29.78 220.6,-30.83 223.55,-37.17\"/>\n</g>\n<!-- 2419847318256 -->\n<g id=\"node2\" class=\"node\">\n<title>2419847318256</title>\n<polygon fill=\"none\" stroke=\"black\" points=\"637,-27.5 637,-63.5 827,-63.5 827,-27.5 637,-27.5\"/>\n<text text-anchor=\"middle\" x=\"647.5\" y=\"-41.8\" font-family=\"Times New Roman,serif\" font-size=\"14.00\">f</text>\n<polyline fill=\"none\" stroke=\"black\" points=\"658,-27.5 658,-63.5\"/>\n<text text-anchor=\"middle\" x=\"701\" y=\"-41.8\" font-family=\"Times New Roman,serif\" font-size=\"14.00\">data &#45;6.0000</text>\n<polyline fill=\"none\" stroke=\"black\" points=\"744,-27.5 744,-63.5\"/>\n<text text-anchor=\"middle\" x=\"785.5\" y=\"-41.8\" font-family=\"Times New Roman,serif\" font-size=\"14.00\">grad 1.0000</text>\n</g>\n<!-- 2419847318256* -->\n<g id=\"node3\" class=\"node\">\n<title>2419847318256*</title>\n<ellipse fill=\"none\" stroke=\"black\" cx=\"574\" cy=\"-45.5\" rx=\"27\" ry=\"18\"/>\n<text text-anchor=\"middle\" x=\"574\" y=\"-41.8\" font-family=\"Times New Roman,serif\" font-size=\"14.00\">*</text>\n</g>\n<!-- 2419847318256*&#45;&gt;2419847318256 -->\n<g id=\"edge1\" class=\"edge\">\n<title>2419847318256*&#45;&gt;2419847318256</title>\n<path fill=\"none\" stroke=\"black\" d=\"M601.46,-45.5C608.68,-45.5 616.95,-45.5 625.76,-45.5\"/>\n<polygon fill=\"black\" stroke=\"black\" points=\"625.64,-49 635.64,-45.5 625.64,-42 625.64,-49\"/>\n</g>\n<!-- 2419847318304 -->\n<g id=\"node4\" class=\"node\">\n<title>2419847318304</title>\n<polygon fill=\"none\" stroke=\"black\" points=\"318,-55.5 318,-91.5 511,-91.5 511,-55.5 318,-55.5\"/>\n<text text-anchor=\"middle\" x=\"330\" y=\"-69.8\" font-family=\"Times New Roman,serif\" font-size=\"14.00\">d</text>\n<polyline fill=\"none\" stroke=\"black\" points=\"342,-55.5 342,-91.5\"/>\n<text text-anchor=\"middle\" x=\"385\" y=\"-69.8\" font-family=\"Times New Roman,serif\" font-size=\"14.00\">data &#45;6.0000</text>\n<polyline fill=\"none\" stroke=\"black\" points=\"428,-55.5 428,-91.5\"/>\n<text text-anchor=\"middle\" x=\"469.5\" y=\"-69.8\" font-family=\"Times New Roman,serif\" font-size=\"14.00\">grad 1.0000</text>\n</g>\n<!-- 2419847318304&#45;&gt;2419847318256* -->\n<g id=\"edge7\" class=\"edge\">\n<title>2419847318304&#45;&gt;2419847318256*</title>\n<path fill=\"none\" stroke=\"black\" d=\"M510.75,-56.57C519.7,-54.98 528.35,-53.44 536.21,-52.04\"/>\n<polygon fill=\"black\" stroke=\"black\" points=\"536.75,-55.5 545.99,-50.3 535.53,-48.61 536.75,-55.5\"/>\n</g>\n<!-- 2419847318304*&#45;&gt;2419847318304 -->\n<g id=\"edge2\" class=\"edge\">\n<title>2419847318304*&#45;&gt;2419847318304</title>\n<path fill=\"none\" stroke=\"black\" d=\"M282.36,-73.5C289.57,-73.5 297.84,-73.5 306.66,-73.5\"/>\n<polygon fill=\"black\" stroke=\"black\" points=\"306.56,-77 316.56,-73.5 306.56,-70 306.56,-77\"/>\n</g>\n<!-- 2419847315760 -->\n<g id=\"node6\" class=\"node\">\n<title>2419847315760</title>\n<polygon fill=\"none\" stroke=\"black\" points=\"319,-0.5 319,-36.5 510,-36.5 510,-0.5 319,-0.5\"/>\n<text text-anchor=\"middle\" x=\"330.5\" y=\"-14.8\" font-family=\"Times New Roman,serif\" font-size=\"14.00\">e</text>\n<polyline fill=\"none\" stroke=\"black\" points=\"342,-0.5 342,-36.5\"/>\n<text text-anchor=\"middle\" x=\"382.5\" y=\"-14.8\" font-family=\"Times New Roman,serif\" font-size=\"14.00\">data 1.0000</text>\n<polyline fill=\"none\" stroke=\"black\" points=\"423,-0.5 423,-36.5\"/>\n<text text-anchor=\"middle\" x=\"466.5\" y=\"-14.8\" font-family=\"Times New Roman,serif\" font-size=\"14.00\">grad &#45;6.0000</text>\n</g>\n<!-- 2419847315760&#45;&gt;2419847318256* -->\n<g id=\"edge6\" class=\"edge\">\n<title>2419847315760&#45;&gt;2419847318256*</title>\n<path fill=\"none\" stroke=\"black\" d=\"M509.85,-34.67C519.09,-36.26 528.03,-37.79 536.14,-39.18\"/>\n<polygon fill=\"black\" stroke=\"black\" points=\"535.42,-42.61 545.87,-40.85 536.61,-35.71 535.42,-42.61\"/>\n</g>\n<!-- 2419847315760+&#45;&gt;2419847315760 -->\n<g id=\"edge3\" class=\"edge\">\n<title>2419847315760+&#45;&gt;2419847315760</title>\n<path fill=\"none\" stroke=\"black\" d=\"M282.36,-18.5C289.83,-18.5 298.46,-18.5 307.64,-18.5\"/>\n<polygon fill=\"black\" stroke=\"black\" points=\"307.56,-22 317.56,-18.5 307.56,-15 307.56,-22\"/>\n</g>\n<!-- 2419847316768 -->\n<g id=\"node8\" class=\"node\">\n<title>2419847316768</title>\n<polygon fill=\"none\" stroke=\"black\" points=\"0,-0.5 0,-36.5 192,-36.5 192,-0.5 0,-0.5\"/>\n<text text-anchor=\"middle\" x=\"11.5\" y=\"-14.8\" font-family=\"Times New Roman,serif\" font-size=\"14.00\">a</text>\n<polyline fill=\"none\" stroke=\"black\" points=\"23,-0.5 23,-36.5\"/>\n<text text-anchor=\"middle\" x=\"66\" y=\"-14.8\" font-family=\"Times New Roman,serif\" font-size=\"14.00\">data &#45;2.0000</text>\n<polyline fill=\"none\" stroke=\"black\" points=\"109,-0.5 109,-36.5\"/>\n<text text-anchor=\"middle\" x=\"150.5\" y=\"-14.8\" font-family=\"Times New Roman,serif\" font-size=\"14.00\">grad 3.0000</text>\n</g>\n<!-- 2419847316768&#45;&gt;2419847318304* -->\n<g id=\"edge9\" class=\"edge\">\n<title>2419847316768&#45;&gt;2419847318304*</title>\n<path fill=\"none\" stroke=\"black\" d=\"M161.99,-36.49C172.11,-39.62 182.38,-43 192,-46.5 201.86,-50.08 212.39,-54.46 221.92,-58.63\"/>\n<polygon fill=\"black\" stroke=\"black\" points=\"220.23,-61.71 230.79,-62.59 223.09,-55.32 220.23,-61.71\"/>\n</g>\n<!-- 2419847316768&#45;&gt;2419847315760+ -->\n<g id=\"edge5\" class=\"edge\">\n<title>2419847316768&#45;&gt;2419847315760+</title>\n<path fill=\"none\" stroke=\"black\" d=\"M191.95,-18.5C200.51,-18.5 208.8,-18.5 216.38,-18.5\"/>\n<polygon fill=\"black\" stroke=\"black\" points=\"216.14,-22 226.14,-18.5 216.14,-15 216.14,-22\"/>\n</g>\n</g>\n</svg>\n",
      "text/plain": [
       "<graphviz.graphs.Digraph at 0x2336a23cb80>"
      ]
     },
     "execution_count": 26,
     "metadata": {},
     "output_type": "execute_result"
    }
   ],
   "source": [
    "\n",
    "a = Value(-2.0, label='a')\n",
    "b = Value(3.0, label='b')\n",
    "\n",
    "d = a * b    ; d.label = 'd'\n",
    "e = a + b    ; e.label = 'e'\n",
    "f = d * e    ; f.label = 'f'\n",
    "\n",
    "f.backward()\n",
    "\n",
    "draw_dot(f)"
   ]
  }
 ],
 "metadata": {
  "kernelspec": {
   "display_name": "Python 3 (ipykernel)",
   "language": "python",
   "name": "python3"
  },
  "language_info": {
   "codemirror_mode": {
    "name": "ipython",
    "version": 3
   },
   "file_extension": ".py",
   "mimetype": "text/x-python",
   "name": "python",
   "nbconvert_exporter": "python",
   "pygments_lexer": "ipython3",
   "version": "3.8.10"
  },
  "orig_nbformat": 4,
  "vscode": {
   "interpreter": {
    "hash": "81794d4967e6c3204c66dcd87b604927b115b27c00565d3d43f05ba2f3a2cb0d"
   }
  }
 },
 "nbformat": 4,
 "nbformat_minor": 2
}
