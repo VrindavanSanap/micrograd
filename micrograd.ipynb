{
 "cells": [
  {
   "cell_type": "code",
   "execution_count": 15,
   "metadata": {},
   "outputs": [],
   "source": [
    "import numpy as np\n",
    "import matplotlib.pyplot as plt\n",
    "%matplotlib inline"
   ]
  },
  {
   "cell_type": "code",
   "execution_count": 53,
   "metadata": {},
   "outputs": [],
   "source": [
    "def f(x):\n",
    "    return 3*x**2-4*x+5"
   ]
  },
  {
   "cell_type": "code",
   "execution_count": 54,
   "metadata": {},
   "outputs": [
    {
     "data": {
      "text/plain": [
       "[<matplotlib.lines.Line2D at 0x1fea0c42c10>]"
      ]
     },
     "execution_count": 54,
     "metadata": {},
     "output_type": "execute_result"
    },
    {
     "data": {
      "image/png": "[encoded data removed]",
      "text/plain": [
       "<Figure size 432x288 with 1 Axes>"
      ]
     },
     "metadata": {
      "needs_background": "light"
     },
     "output_type": "display_data"
    }
   ],
   "source": [
    "xs=np.arange(-5,5,0.25)\n",
    "ys=f(xs)\n",
    "plt.plot(xs,ys)"
   ]
  },
  {
   "cell_type": "code",
   "execution_count": 5,
   "metadata": {},
   "outputs": [
    {
     "data": {
      "text/plain": [
       "0.0029999999995311555"
      ]
     },
     "execution_count": 5,
     "metadata": {},
     "output_type": "execute_result"
    }
   ],
   "source": [
    "# derivative at 2/3\n",
    "h=0.001\n",
    "x=2/3\n",
    "(f(x+h)-f(x))/h"
   ]
  },
  {
   "cell_type": "code",
   "execution_count": 6,
   "metadata": {},
   "outputs": [
    {
     "data": {
      "text/plain": [
       "[<matplotlib.lines.Line2D at 0x1fe9e0cd7f0>]"
      ]
     },
     "execution_count": 6,
     "metadata": {},
     "output_type": "execute_result"
    },
    {
     "data": {
      "image/png": "[encoded data removed]",
      "text/plain": [
       "<Figure size 432x288 with 1 Axes>"
      ]
     },
     "metadata": {
      "needs_background": "light"
     },
     "output_type": "display_data"
    }
   ],
   "source": [
    "def d():\n",
    "    ds=[]\n",
    "    h=0.001\n",
    "    for i in range(len(ys)):\n",
    "        ds.append((f(xs[i]+h)-f(xs[i]))/h)\n",
    "    return ds\n",
    "ds=d()\n",
    "plt.plot(xs,ds)"
   ]
  },
  {
   "cell_type": "code",
   "execution_count": 7,
   "metadata": {},
   "outputs": [
    {
     "name": "stdout",
     "output_type": "stream",
     "text": [
      "d1 4.0\n",
      "d2 3.997\n",
      "slope -3.0000000000001137\n"
     ]
    }
   ],
   "source": [
    "a=2.0\n",
    "b=-3.0\n",
    "c=10.0\n",
    "\n",
    "d1=a*b+c\n",
    "a+=h\n",
    "d2=a*b+c\n",
    "\n",
    "print(f\"d1 {d1}\")\n",
    "print(f\"d2 {d2}\")\n",
    "print(f\"slope\",(d2-d1)/h)"
   ]
  },
  {
   "cell_type": "code",
   "execution_count": 8,
   "metadata": {},
   "outputs": [],
   "source": [
    "class Value:\n",
    "    def __init__(self,data,_children=(),_op='',label=\"\"):\n",
    "        self.data=data\n",
    "        self.grad=0.0\n",
    "        self._prev=set(_children)\n",
    "        self._op=_op\n",
    "        self.label=label\n",
    "    def __repr__(self):\n",
    "        return (f\"Value(data)={self.data}\")\n",
    "    def __add__(self,other):\n",
    "        out = Value(self.data+other.data,(self,other),_op=\"+\")\n",
    "        return out\n",
    "    def __sub__(self,other):\n",
    "        out = Value(self.data-other.data,(self,other),_op=\"-\")\n",
    "        return out\n",
    "    def __div__(self,other):\n",
    "        out = Value(self.data/other.data,(self,other),_op=\"/\")\n",
    "        return out\n",
    "    def __mul__(self,other):\n",
    "        out = Value(self.data*other.data,(self,other),_op=\"*\")\n",
    "        return out"
   ]
  },
  {
   "cell_type": "code",
   "execution_count": 10,
   "metadata": {},
   "outputs": [
    {
     "data": {
      "text/plain": [
       "{Value(data)=10, Value(data)=10.5}"
      ]
     },
     "execution_count": 10,
     "metadata": {},
     "output_type": "execute_result"
    }
   ],
   "source": [
    "a=Value(2.1,label=\"a\")\n",
    "b=Value(5,label=\"b\")\n",
    "c=Value(10,label=\"c\")\n",
    "d=a*b+c\n",
    "d._prev"
   ]
  },
  {
   "cell_type": "code",
   "execution_count": 11,
   "metadata": {},
   "outputs": [],
   "source": [
    "from graphviz import Digraph\n",
    "\n",
    "def trace(root):\n",
    "  # builds a set of all nodes and edges in a graph\n",
    "  nodes, edges = set(), set()\n",
    "  def build(v):\n",
    "    if v not in nodes:\n",
    "      nodes.add(v)\n",
    "      for child in v._prev:\n",
    "        edges.add((child, v))\n",
    "        build(child)\n",
    "  build(root)\n",
    "  return nodes, edges\n",
    "\n",
    "def draw_dot(root):\n",
    "  dot = Digraph(format='svg', graph_attr={'rankdir': 'LR'}) # LR = left to right\n",
    "  \n",
    "  nodes, edges = trace(root)\n",
    "  for n in nodes:\n",
    "    uid = str(id(n))\n",
    "    # for any value in the graph, create a rectangular ('record') node for it\n",
    "    dot.node(name = uid, label = \"{ %s | data %.4f | grad %.4f }\" % (n.label, n.data, n.grad), shape='record')\n",
    "    if n._op:\n",
    "      # if this value is a result of some operation, create an op node for it\n",
    "      dot.node(name = uid + n._op, label = n._op)\n",
    "      # and connect this node to it\n",
    "      dot.edge(uid + n._op, uid)\n",
    "\n",
    "  for n1, n2 in edges:\n",
    "    # connect n1 to the op node of n2\n",
    "    dot.edge(str(id(n1)), str(id(n2)) + n2._op)\n",
    "\n",
    "  return dot\n",
    "\n"
   ]
  },
  {
   "cell_type": "code",
   "execution_count": 23,
   "metadata": {},
   "outputs": [
    {
     "data": {
      "image/svg+xml": "<?xml version=\"1.0\" encoding=\"UTF-8\" standalone=\"no\"?>\n<!DOCTYPE svg PUBLIC \"-//W3C//DTD SVG 1.1//EN\"\n \"http://www.w3.org/Graphics/SVG/1.1/DTD/svg11.dtd\">\n<!-- Generated by graphviz version 7.0.2 (20221119.0110)\n -->\n<!-- Pages: 1 -->\n<svg width=\"833pt\" height=\"127pt\"\n viewBox=\"0.00 0.00 833.00 127.00\" xmlns=\"http://www.w3.org/2000/svg\" xmlns:xlink=\"http://www.w3.org/1999/xlink\">\n<g id=\"graph0\" class=\"graph\" transform=\"scale(1 1) rotate(0) translate(4 123)\">\n<polygon fill=\"white\" stroke=\"none\" points=\"-4,4 -4,-123 829,-123 829,4 -4,4\"/>\n<!-- 2193085182976 -->\n<g id=\"node1\" class=\"node\">\n<title>2193085182976</title>\n<polygon fill=\"none\" stroke=\"black\" points=\"314,-82.5 314,-118.5 508,-118.5 508,-82.5 314,-82.5\"/>\n<text text-anchor=\"middle\" x=\"325.5\" y=\"-96.8\" font-family=\"Times New Roman,serif\" font-size=\"14.00\">c</text>\n<polyline fill=\"none\" stroke=\"black\" points=\"337,-82.5 337,-118.5\"/>\n<text text-anchor=\"middle\" x=\"381\" y=\"-96.8\" font-family=\"Times New Roman,serif\" font-size=\"14.00\">data 10.0000</text>\n<polyline fill=\"none\" stroke=\"black\" points=\"425,-82.5 425,-118.5\"/>\n<text text-anchor=\"middle\" x=\"466.5\" y=\"-96.8\" font-family=\"Times New Roman,serif\" font-size=\"14.00\">grad 0.0000</text>\n</g>\n<!-- 2193085184848+ -->\n<g id=\"node5\" class=\"node\">\n<title>2193085184848+</title>\n<ellipse fill=\"none\" stroke=\"black\" cx=\"571\" cy=\"-72.5\" rx=\"27\" ry=\"18\"/>\n<text text-anchor=\"middle\" x=\"571\" y=\"-68.8\" font-family=\"Times New Roman,serif\" font-size=\"14.00\">+</text>\n</g>\n<!-- 2193085182976&#45;&gt;2193085184848+ -->\n<g id=\"edge5\" class=\"edge\">\n<title>2193085182976&#45;&gt;2193085184848+</title>\n<path fill=\"none\" stroke=\"black\" d=\"M507.55,-83.57C516.53,-81.98 525.21,-80.44 533.1,-79.04\"/>\n<polygon fill=\"black\" stroke=\"black\" points=\"533.67,-82.49 542.9,-77.3 532.45,-75.6 533.67,-82.49\"/>\n</g>\n<!-- 2193085183552 -->\n<g id=\"node2\" class=\"node\">\n<title>2193085183552</title>\n<polygon fill=\"none\" stroke=\"black\" points=\"0.5,-55.5 0.5,-91.5 187.5,-91.5 187.5,-55.5 0.5,-55.5\"/>\n<text text-anchor=\"middle\" x=\"12\" y=\"-69.8\" font-family=\"Times New Roman,serif\" font-size=\"14.00\">a</text>\n<polyline fill=\"none\" stroke=\"black\" points=\"23.5,-55.5 23.5,-91.5\"/>\n<text text-anchor=\"middle\" x=\"64\" y=\"-69.8\" font-family=\"Times New Roman,serif\" font-size=\"14.00\">data 2.1000</text>\n<polyline fill=\"none\" stroke=\"black\" points=\"104.5,-55.5 104.5,-91.5\"/>\n<text text-anchor=\"middle\" x=\"146\" y=\"-69.8\" font-family=\"Times New Roman,serif\" font-size=\"14.00\">grad 0.0000</text>\n</g>\n<!-- 2193085182880* -->\n<g id=\"node7\" class=\"node\">\n<title>2193085182880*</title>\n<ellipse fill=\"none\" stroke=\"black\" cx=\"251\" cy=\"-45.5\" rx=\"27\" ry=\"18\"/>\n<text text-anchor=\"middle\" x=\"251\" y=\"-41.8\" font-family=\"Times New Roman,serif\" font-size=\"14.00\">*</text>\n</g>\n<!-- 2193085183552&#45;&gt;2193085182880* -->\n<g id=\"edge6\" class=\"edge\">\n<title>2193085183552&#45;&gt;2193085182880*</title>\n<path fill=\"none\" stroke=\"black\" d=\"M187.4,-56.81C196.55,-55.16 205.41,-53.56 213.44,-52.1\"/>\n<polygon fill=\"black\" stroke=\"black\" points=\"213.86,-55.59 223.08,-50.36 212.61,-48.7 213.86,-55.59\"/>\n</g>\n<!-- 2193085185232 -->\n<g id=\"node3\" class=\"node\">\n<title>2193085185232</title>\n<polygon fill=\"none\" stroke=\"black\" points=\"0,-0.5 0,-36.5 188,-36.5 188,-0.5 0,-0.5\"/>\n<text text-anchor=\"middle\" x=\"12\" y=\"-14.8\" font-family=\"Times New Roman,serif\" font-size=\"14.00\">b</text>\n<polyline fill=\"none\" stroke=\"black\" points=\"24,-0.5 24,-36.5\"/>\n<text text-anchor=\"middle\" x=\"64.5\" y=\"-14.8\" font-family=\"Times New Roman,serif\" font-size=\"14.00\">data 5.0000</text>\n<polyline fill=\"none\" stroke=\"black\" points=\"105,-0.5 105,-36.5\"/>\n<text text-anchor=\"middle\" x=\"146.5\" y=\"-14.8\" font-family=\"Times New Roman,serif\" font-size=\"14.00\">grad 0.0000</text>\n</g>\n<!-- 2193085185232&#45;&gt;2193085182880* -->\n<g id=\"edge4\" class=\"edge\">\n<title>2193085185232&#45;&gt;2193085182880*</title>\n<path fill=\"none\" stroke=\"black\" d=\"M187.85,-34.67C196.75,-36.22 205.38,-37.73 213.22,-39.09\"/>\n<polygon fill=\"black\" stroke=\"black\" points=\"212.53,-42.53 222.98,-40.79 213.73,-35.63 212.53,-42.53\"/>\n</g>\n<!-- 2193085184848 -->\n<g id=\"node4\" class=\"node\">\n<title>2193085184848</title>\n<polygon fill=\"none\" stroke=\"black\" points=\"634,-54.5 634,-90.5 825,-90.5 825,-54.5 634,-54.5\"/>\n<text text-anchor=\"middle\" x=\"644\" y=\"-68.8\" font-family=\"Times New Roman,serif\" font-size=\"14.00\"> </text>\n<polyline fill=\"none\" stroke=\"black\" points=\"654,-54.5 654,-90.5\"/>\n<text text-anchor=\"middle\" x=\"698\" y=\"-68.8\" font-family=\"Times New Roman,serif\" font-size=\"14.00\">data 20.5000</text>\n<polyline fill=\"none\" stroke=\"black\" points=\"742,-54.5 742,-90.5\"/>\n<text text-anchor=\"middle\" x=\"783.5\" y=\"-68.8\" font-family=\"Times New Roman,serif\" font-size=\"14.00\">grad 0.0000</text>\n</g>\n<!-- 2193085184848+&#45;&gt;2193085184848 -->\n<g id=\"edge1\" class=\"edge\">\n<title>2193085184848+&#45;&gt;2193085184848</title>\n<path fill=\"none\" stroke=\"black\" d=\"M598.19,-72.5C605.41,-72.5 613.72,-72.5 622.56,-72.5\"/>\n<polygon fill=\"black\" stroke=\"black\" points=\"622.5,-76 632.5,-72.5 622.5,-69 622.5,-76\"/>\n</g>\n<!-- 2193085182880 -->\n<g id=\"node6\" class=\"node\">\n<title>2193085182880</title>\n<polygon fill=\"none\" stroke=\"black\" points=\"315.5,-27.5 315.5,-63.5 506.5,-63.5 506.5,-27.5 315.5,-27.5\"/>\n<text text-anchor=\"middle\" x=\"325.5\" y=\"-41.8\" font-family=\"Times New Roman,serif\" font-size=\"14.00\"> </text>\n<polyline fill=\"none\" stroke=\"black\" points=\"335.5,-27.5 335.5,-63.5\"/>\n<text text-anchor=\"middle\" x=\"379.5\" y=\"-41.8\" font-family=\"Times New Roman,serif\" font-size=\"14.00\">data 10.5000</text>\n<polyline fill=\"none\" stroke=\"black\" points=\"423.5,-27.5 423.5,-63.5\"/>\n<text text-anchor=\"middle\" x=\"465\" y=\"-41.8\" font-family=\"Times New Roman,serif\" font-size=\"14.00\">grad 0.0000</text>\n</g>\n<!-- 2193085182880&#45;&gt;2193085184848+ -->\n<g id=\"edge3\" class=\"edge\">\n<title>2193085182880&#45;&gt;2193085184848+</title>\n<path fill=\"none\" stroke=\"black\" d=\"M506.19,-61.6C515.71,-63.22 524.93,-64.8 533.26,-66.22\"/>\n<polygon fill=\"black\" stroke=\"black\" points=\"532.44,-69.63 542.89,-67.87 533.62,-62.73 532.44,-69.63\"/>\n</g>\n<!-- 2193085182880*&#45;&gt;2193085182880 -->\n<g id=\"edge2\" class=\"edge\">\n<title>2193085182880*&#45;&gt;2193085182880</title>\n<path fill=\"none\" stroke=\"black\" d=\"M278.45,-45.5C286.09,-45.5 294.93,-45.5 304.34,-45.5\"/>\n<polygon fill=\"black\" stroke=\"black\" points=\"304.1,-49 314.1,-45.5 304.1,-42 304.1,-49\"/>\n</g>\n</g>\n</svg>\n",
      "text/plain": [
       "<graphviz.graphs.Digraph at 0x1fea0b34cd0>"
      ]
     },
     "execution_count": 23,
     "metadata": {},
     "output_type": "execute_result"
    }
   ],
   "source": [
    "# download link for graphwiz on windows: https://graphviz.org/download\n",
    "\n",
    "import os\n",
    "os.environ[\"PATH\"] += os.pathsep + 'F:\\\\softwares\\\\Graphviz\\\\bin'\n",
    "draw_dot(d)"
   ]
  },
  {
   "cell_type": "code",
   "execution_count": 43,
   "metadata": {},
   "outputs": [
    {
     "data": {
      "text/plain": [
       "Value(data)=-8.0"
      ]
     },
     "execution_count": 43,
     "metadata": {},
     "output_type": "execute_result"
    }
   ],
   "source": [
    "a = Value(2.0, label='a')\n",
    "b = Value(-3.0, label='b')\n",
    "c = Value(10.0, label='c')\n",
    "e = a*b; e.label = 'e'\n",
    "d = e + c; d.label = 'd'\n",
    "f = Value(-2.0, label='f')\n",
    "L = d * f; L.label = 'L'\n",
    "L\n",
    "\n"
   ]
  },
  {
   "cell_type": "code",
   "execution_count": 50,
   "metadata": {},
   "outputs": [
    {
     "data": {
      "image/svg+xml": "<?xml version=\"1.0\" encoding=\"UTF-8\" standalone=\"no\"?>\n<!DOCTYPE svg PUBLIC \"-//W3C//DTD SVG 1.1//EN\"\n \"http://www.w3.org/Graphics/SVG/1.1/DTD/svg11.dtd\">\n<!-- Generated by graphviz version 7.0.2 (20221119.0110)\n -->\n<!-- Pages: 1 -->\n<svg width=\"1159pt\" height=\"154pt\"\n viewBox=\"0.00 0.00 1159.00 154.00\" xmlns=\"http://www.w3.org/2000/svg\" xmlns:xlink=\"http://www.w3.org/1999/xlink\">\n<g id=\"graph0\" class=\"graph\" transform=\"scale(1 1) rotate(0) translate(4 150)\">\n<polygon fill=\"white\" stroke=\"none\" points=\"-4,4 -4,-150 1155,-150 1155,4 -4,4\"/>\n<!-- 2193129694832 -->\n<g id=\"node1\" class=\"node\">\n<title>2193129694832</title>\n<polygon fill=\"none\" stroke=\"black\" points=\"320,-27.5 320,-63.5 512,-63.5 512,-27.5 320,-27.5\"/>\n<text text-anchor=\"middle\" x=\"331.5\" y=\"-41.8\" font-family=\"Times New Roman,serif\" font-size=\"14.00\">e</text>\n<polyline fill=\"none\" stroke=\"black\" points=\"343,-27.5 343,-63.5\"/>\n<text text-anchor=\"middle\" x=\"386\" y=\"-41.8\" font-family=\"Times New Roman,serif\" font-size=\"14.00\">data &#45;6.0000</text>\n<polyline fill=\"none\" stroke=\"black\" points=\"429,-27.5 429,-63.5\"/>\n<text text-anchor=\"middle\" x=\"470.5\" y=\"-41.8\" font-family=\"Times New Roman,serif\" font-size=\"14.00\">grad 0.0000</text>\n</g>\n<!-- 2193129695936+ -->\n<g id=\"node5\" class=\"node\">\n<title>2193129695936+</title>\n<ellipse fill=\"none\" stroke=\"black\" cx=\"576\" cy=\"-72.5\" rx=\"27\" ry=\"18\"/>\n<text text-anchor=\"middle\" x=\"576\" y=\"-68.8\" font-family=\"Times New Roman,serif\" font-size=\"14.00\">+</text>\n</g>\n<!-- 2193129694832&#45;&gt;2193129695936+ -->\n<g id=\"edge7\" class=\"edge\">\n<title>2193129694832&#45;&gt;2193129695936+</title>\n<path fill=\"none\" stroke=\"black\" d=\"M511.65,-61.67C521.01,-63.27 530.06,-64.82 538.26,-66.22\"/>\n<polygon fill=\"black\" stroke=\"black\" points=\"537.65,-69.67 548.1,-67.9 538.83,-62.77 537.65,-69.67\"/>\n</g>\n<!-- 2193129694832* -->\n<g id=\"node2\" class=\"node\">\n<title>2193129694832*</title>\n<ellipse fill=\"none\" stroke=\"black\" cx=\"256\" cy=\"-45.5\" rx=\"27\" ry=\"18\"/>\n<text text-anchor=\"middle\" x=\"256\" y=\"-41.8\" font-family=\"Times New Roman,serif\" font-size=\"14.00\">*</text>\n</g>\n<!-- 2193129694832*&#45;&gt;2193129694832 -->\n<g id=\"edge1\" class=\"edge\">\n<title>2193129694832*&#45;&gt;2193129694832</title>\n<path fill=\"none\" stroke=\"black\" d=\"M283.45,-45.5C290.94,-45.5 299.59,-45.5 308.8,-45.5\"/>\n<polygon fill=\"black\" stroke=\"black\" points=\"308.76,-49 318.76,-45.5 308.76,-42 308.76,-49\"/>\n</g>\n<!-- 2193129455776 -->\n<g id=\"node3\" class=\"node\">\n<title>2193129455776</title>\n<polygon fill=\"none\" stroke=\"black\" points=\"319,-82.5 319,-118.5 513,-118.5 513,-82.5 319,-82.5\"/>\n<text text-anchor=\"middle\" x=\"330.5\" y=\"-96.8\" font-family=\"Times New Roman,serif\" font-size=\"14.00\">c</text>\n<polyline fill=\"none\" stroke=\"black\" points=\"342,-82.5 342,-118.5\"/>\n<text text-anchor=\"middle\" x=\"386\" y=\"-96.8\" font-family=\"Times New Roman,serif\" font-size=\"14.00\">data 10.0000</text>\n<polyline fill=\"none\" stroke=\"black\" points=\"430,-82.5 430,-118.5\"/>\n<text text-anchor=\"middle\" x=\"471.5\" y=\"-96.8\" font-family=\"Times New Roman,serif\" font-size=\"14.00\">grad 0.0000</text>\n</g>\n<!-- 2193129455776&#45;&gt;2193129695936+ -->\n<g id=\"edge4\" class=\"edge\">\n<title>2193129455776&#45;&gt;2193129695936+</title>\n<path fill=\"none\" stroke=\"black\" d=\"M512.55,-83.57C521.53,-81.98 530.21,-80.44 538.1,-79.04\"/>\n<polygon fill=\"black\" stroke=\"black\" points=\"538.67,-82.49 547.9,-77.3 537.45,-75.6 538.67,-82.49\"/>\n</g>\n<!-- 2193129695936 -->\n<g id=\"node4\" class=\"node\">\n<title>2193129695936</title>\n<polygon fill=\"none\" stroke=\"black\" points=\"639,-54.5 639,-90.5 831,-90.5 831,-54.5 639,-54.5\"/>\n<text text-anchor=\"middle\" x=\"651\" y=\"-68.8\" font-family=\"Times New Roman,serif\" font-size=\"14.00\">d</text>\n<polyline fill=\"none\" stroke=\"black\" points=\"663,-54.5 663,-90.5\"/>\n<text text-anchor=\"middle\" x=\"703.5\" y=\"-68.8\" font-family=\"Times New Roman,serif\" font-size=\"14.00\">data 4.0000</text>\n<polyline fill=\"none\" stroke=\"black\" points=\"744,-54.5 744,-90.5\"/>\n<text text-anchor=\"middle\" x=\"787.5\" y=\"-68.8\" font-family=\"Times New Roman,serif\" font-size=\"14.00\">grad &#45;2.0000</text>\n</g>\n<!-- 2193129696704* -->\n<g id=\"node10\" class=\"node\">\n<title>2193129696704*</title>\n<ellipse fill=\"none\" stroke=\"black\" cx=\"894\" cy=\"-99.5\" rx=\"27\" ry=\"18\"/>\n<text text-anchor=\"middle\" x=\"894\" y=\"-95.8\" font-family=\"Times New Roman,serif\" font-size=\"14.00\">*</text>\n</g>\n<!-- 2193129695936&#45;&gt;2193129696704* -->\n<g id=\"edge9\" class=\"edge\">\n<title>2193129695936&#45;&gt;2193129696704*</title>\n<path fill=\"none\" stroke=\"black\" d=\"M830.95,-88.83C839.87,-90.36 848.49,-91.85 856.33,-93.19\"/>\n<polygon fill=\"black\" stroke=\"black\" points=\"855.62,-96.62 866.07,-94.87 856.8,-89.72 855.62,-96.62\"/>\n</g>\n<!-- 2193129695936+&#45;&gt;2193129695936 -->\n<g id=\"edge2\" class=\"edge\">\n<title>2193129695936+&#45;&gt;2193129695936</title>\n<path fill=\"none\" stroke=\"black\" d=\"M603.28,-72.5C610.52,-72.5 618.85,-72.5 627.72,-72.5\"/>\n<polygon fill=\"black\" stroke=\"black\" points=\"627.69,-76 637.69,-72.5 627.69,-69 627.69,-76\"/>\n</g>\n<!-- 2193129456352 -->\n<g id=\"node6\" class=\"node\">\n<title>2193129456352</title>\n<polygon fill=\"none\" stroke=\"black\" points=\"3,-55.5 3,-91.5 190,-91.5 190,-55.5 3,-55.5\"/>\n<text text-anchor=\"middle\" x=\"14.5\" y=\"-69.8\" font-family=\"Times New Roman,serif\" font-size=\"14.00\">a</text>\n<polyline fill=\"none\" stroke=\"black\" points=\"26,-55.5 26,-91.5\"/>\n<text text-anchor=\"middle\" x=\"66.5\" y=\"-69.8\" font-family=\"Times New Roman,serif\" font-size=\"14.00\">data 2.0000</text>\n<polyline fill=\"none\" stroke=\"black\" points=\"107,-55.5 107,-91.5\"/>\n<text text-anchor=\"middle\" x=\"148.5\" y=\"-69.8\" font-family=\"Times New Roman,serif\" font-size=\"14.00\">grad 0.0000</text>\n</g>\n<!-- 2193129456352&#45;&gt;2193129694832* -->\n<g id=\"edge6\" class=\"edge\">\n<title>2193129456352&#45;&gt;2193129694832*</title>\n<path fill=\"none\" stroke=\"black\" d=\"M189.57,-57.13C199.66,-55.34 209.45,-53.6 218.25,-52.03\"/>\n<polygon fill=\"black\" stroke=\"black\" points=\"218.85,-55.48 228.08,-50.29 217.62,-48.59 218.85,-55.48\"/>\n</g>\n<!-- 2193129695024 -->\n<g id=\"node7\" class=\"node\">\n<title>2193129695024</title>\n<polygon fill=\"none\" stroke=\"black\" points=\"640,-109.5 640,-145.5 830,-145.5 830,-109.5 640,-109.5\"/>\n<text text-anchor=\"middle\" x=\"650.5\" y=\"-123.8\" font-family=\"Times New Roman,serif\" font-size=\"14.00\">f</text>\n<polyline fill=\"none\" stroke=\"black\" points=\"661,-109.5 661,-145.5\"/>\n<text text-anchor=\"middle\" x=\"704\" y=\"-123.8\" font-family=\"Times New Roman,serif\" font-size=\"14.00\">data &#45;2.0000</text>\n<polyline fill=\"none\" stroke=\"black\" points=\"747,-109.5 747,-145.5\"/>\n<text text-anchor=\"middle\" x=\"788.5\" y=\"-123.8\" font-family=\"Times New Roman,serif\" font-size=\"14.00\">grad 4.0000</text>\n</g>\n<!-- 2193129695024&#45;&gt;2193129696704* -->\n<g id=\"edge8\" class=\"edge\">\n<title>2193129695024&#45;&gt;2193129696704*</title>\n<path fill=\"none\" stroke=\"black\" d=\"M829.59,-110.81C839.06,-109.12 848.22,-107.49 856.49,-106.01\"/>\n<polygon fill=\"black\" stroke=\"black\" points=\"856.82,-109.51 866.05,-104.31 855.59,-102.62 856.82,-109.51\"/>\n</g>\n<!-- 2193129459088 -->\n<g id=\"node8\" class=\"node\">\n<title>2193129459088</title>\n<polygon fill=\"none\" stroke=\"black\" points=\"0,-0.5 0,-36.5 193,-36.5 193,-0.5 0,-0.5\"/>\n<text text-anchor=\"middle\" x=\"12\" y=\"-14.8\" font-family=\"Times New Roman,serif\" font-size=\"14.00\">b</text>\n<polyline fill=\"none\" stroke=\"black\" points=\"24,-0.5 24,-36.5\"/>\n<text text-anchor=\"middle\" x=\"67\" y=\"-14.8\" font-family=\"Times New Roman,serif\" font-size=\"14.00\">data &#45;3.0000</text>\n<polyline fill=\"none\" stroke=\"black\" points=\"110,-0.5 110,-36.5\"/>\n<text text-anchor=\"middle\" x=\"151.5\" y=\"-14.8\" font-family=\"Times New Roman,serif\" font-size=\"14.00\">grad 0.0000</text>\n</g>\n<!-- 2193129459088&#45;&gt;2193129694832* -->\n<g id=\"edge5\" class=\"edge\">\n<title>2193129459088&#45;&gt;2193129694832*</title>\n<path fill=\"none\" stroke=\"black\" d=\"M192.75,-34.83C201.7,-36.36 210.35,-37.85 218.21,-39.19\"/>\n<polygon fill=\"black\" stroke=\"black\" points=\"217.54,-42.63 227.98,-40.87 218.72,-35.73 217.54,-42.63\"/>\n</g>\n<!-- 2193129696704 -->\n<g id=\"node9\" class=\"node\">\n<title>2193129696704</title>\n<polygon fill=\"none\" stroke=\"black\" points=\"957,-81.5 957,-117.5 1151,-117.5 1151,-81.5 957,-81.5\"/>\n<text text-anchor=\"middle\" x=\"969.5\" y=\"-95.8\" font-family=\"Times New Roman,serif\" font-size=\"14.00\">L</text>\n<polyline fill=\"none\" stroke=\"black\" points=\"982,-81.5 982,-117.5\"/>\n<text text-anchor=\"middle\" x=\"1025\" y=\"-95.8\" font-family=\"Times New Roman,serif\" font-size=\"14.00\">data &#45;8.0000</text>\n<polyline fill=\"none\" stroke=\"black\" points=\"1068,-81.5 1068,-117.5\"/>\n<text text-anchor=\"middle\" x=\"1109.5\" y=\"-95.8\" font-family=\"Times New Roman,serif\" font-size=\"14.00\">grad 1.0000</text>\n</g>\n<!-- 2193129696704*&#45;&gt;2193129696704 -->\n<g id=\"edge3\" class=\"edge\">\n<title>2193129696704*&#45;&gt;2193129696704</title>\n<path fill=\"none\" stroke=\"black\" d=\"M921.45,-99.5C928.67,-99.5 936.97,-99.5 945.82,-99.5\"/>\n<polygon fill=\"black\" stroke=\"black\" points=\"945.75,-103 955.75,-99.5 945.75,-96 945.75,-103\"/>\n</g>\n</g>\n</svg>\n",
      "text/plain": [
       "<graphviz.graphs.Digraph at 0x1fea0b3ca00>"
      ]
     },
     "execution_count": 50,
     "metadata": {},
     "output_type": "execute_result"
    }
   ],
   "source": [
    "draw_dot(L)"
   ]
  },
  {
   "cell_type": "code",
   "execution_count": 47,
   "metadata": {},
   "outputs": [],
   "source": [
    "# Manual Backprop\n",
    "\"\"\"\n",
    "\n",
    "From mulitvar caluclus\n",
    "\n",
    "dl/dd=f\n",
    "dl/df=d\n",
    "\n",
    "dd/de=d\n",
    "dd/dc=d\n",
    "\n",
    "da/de=b\n",
    "db/de=a\n",
    "\n",
    "\n",
    "\n",
    "dl/dc=\n",
    "\n",
    "\"\"\"\n",
    "# L.grad=1\n",
    "# d.grad=f.data\n",
    "# f.grad=d.data\n",
    "\n",
    "# e.grad=d.data\n",
    "# c.grad=d.data"
   ]
  },
  {
   "cell_type": "code",
   "execution_count": 38,
   "metadata": {},
   "outputs": [
    {
     "name": "stdout",
     "output_type": "stream",
     "text": [
      "-4.000000000008441\n"
     ]
    }
   ],
   "source": [
    "def backProp():\n",
    "    a = Value(2.0, label='a')\n",
    "    b = Value(-3.0, label='b')\n",
    "    c = Value(10.0, label='c')\n",
    "    e = a*b; e.label = 'e'\n",
    "    d = e + c; d.label = 'd'\n",
    "    f = Value(-2.0, label='f')\n",
    "    L = d * f; L.label = 'L'\n",
    "\n",
    "    L1=L.data\n",
    "    h=.0001\n",
    "    a = Value(2.0, label='a')\n",
    "    b = Value(-3.0+h, label='b')\n",
    "    c = Value(10.0, label='c')\n",
    "    e = a*b; e.label = 'e'\n",
    "    d = e + c; d.label = 'd'\n",
    "    f = Value(-2.0, label='f')\n",
    "    L = d * f; L.label = 'L'\n",
    "    L2=L.data\n",
    "    print((L2-L1)/h)\n",
    "backProp()\n"
   ]
  },
  {
   "cell_type": "code",
   "execution_count": null,
   "metadata": {},
   "outputs": [],
   "source": []
  }
 ],
 "metadata": {
  "kernelspec": {
   "display_name": "Python 3.9.0 64-bit",
   "language": "python",
   "name": "python3"
  },
  "language_info": {
   "codemirror_mode": {
    "name": "ipython",
    "version": 3
   },
   "file_extension": ".py",
   "mimetype": "text/x-python",
   "name": "python",
   "nbconvert_exporter": "python",
   "pygments_lexer": "ipython3",
   "version": "3.9.0"
  },
  "orig_nbformat": 4,
  "vscode": {
   "interpreter": {
    "hash": "81794d4967e6c3204c66dcd87b604927b115b27c00565d3d43f05ba2f3a2cb0d"
   }
  }
 },
 "nbformat": 4,
 "nbformat_minor": 2
}
